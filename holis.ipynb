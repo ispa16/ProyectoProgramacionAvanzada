﻿{
  "metadata": {
    "name": "NotaPrueba",
    "kernelspec": {
      "language": "scala",
      "name": "spark2-scala"
    },
    "language_info": {
      "codemirror_mode": "text/x-scala",
      "file_extension": ".scala",
      "mimetype": "text/x-scala",
      "name": "scala",
      "pygments_lexer": "scala"
    }
  },
  "nbformat": 4,
  "nbformat_minor": 2,
  "cells": [
    {
      "cell_type": "code",
      "execution_count": 0,
      "metadata": {
        "autoscroll": "auto"
      },
      "outputs": [],
      "source": "import org.apache.spark.sql.types._\nval myDataSchema \u003d StructType(\nArray(\nStructField(\"id_persona\", DecimalType(26, 0), true), \nStructField(\"anio\", IntegerType, true), \nStructField(\"mes\", IntegerType, true), \nStructField(\"provincia\", IntegerType, true), \nStructField(\"canton\", IntegerType, true), \nStructField(\"area\", StringType, true), \nStructField(\"genero\", StringType, true), \nStructField(\"edad\", IntegerType, true), \nStructField(\"estado_civil\", StringType, true), \nStructField(\"nivel_de_instruccion\", StringType, true), \nStructField(\"etnia\", StringType, true), \nStructField(\"ingreso_laboral\", IntegerType, true), \nStructField(\"condicion_actividad\", StringType, true), \nStructField(\"sectorizacion\", StringType, true), \nStructField(\"grupo_ocupacion\", StringType, true), \nStructField(\"rama_actividad\", StringType, true), \nStructField(\"factor_expansion\", DoubleType, true)\n));//le damos al archivo el esquema establecido anteriormente\nval data \u003d spark\n.read\n.schema(myDataSchema)\n.option(\"header\", \"true\")\n.option(\"delimiter\", \"\\t\")\n.csv(\"Datos_ENEMDU_PEA_v2.csv\")"
    },
    {
      "cell_type": "markdown",
      "metadata": {},
      "source": "## Que porcentaje de indigenas fueron encuestados ?"
    },
    {
      "cell_type": "markdown",
      "metadata": {},
      "source": ""
    },
    {
      "cell_type": "code",
      "execution_count": 3,
      "metadata": {
        "autoscroll": "auto"
      },
      "outputs": [],
      "source": "val indg \u003d data.where($\"etnia\" \u003d\u003d\u003d \"1 - Indígena\")\nprint(f\"${(indg.count * 100)/data.count.toDouble}%.2f%% De Indígenas encuestados\")"
    },
    {
      "cell_type": "markdown",
      "metadata": {},
      "source": "## ¿Cuál es la clasificacion de indigenas con respecto a sus condicion laboral (condicion_actividad)?\n"
    },
    {
      "cell_type": "code",
      "execution_count": 5,
      "metadata": {
        "autoscroll": "auto"
      },
      "outputs": [],
      "source": "//ojo\nz.show(f\"${(indg.where($\"condicion_actividad\" \u003d\u003d\u003d \"1 - Empleo Adecuado/Pleno\").count * 100)/indg.count.toDouble}%.2f%% Empleo Adecuado\\n${(indg.where($\"condicion_actividad\" \u003d\u003d\u003d \"2 - Subempleo por insuficiencia de tiempo de trabajo\").count * 100)/indg.count.toDouble}%.2f%% Subempleo por insuficiencia de trabajo\\n${(indg.where($\"condicion_actividad\" \u003d\u003d\u003d \"4 - Otro empleo no pleno\").count * 100)/indg.count.toDouble}%.2f%% Otro empleo no pleno\\n${(indg.where($\"condicion_actividad\" \u003d\u003d\u003d \"5 - Empleo no remunerado\").count * 100)/indg.count.toDouble}%.2f%% Empleo no remunerado\\n${(indg.where($\"condicion_actividad\" \u003d\u003d\u003d \"6 - Empleo no clasificado\").count * 100)/indg.count.toDouble}%.2f%% Empleo no clasificado\\n${(indg.where($\"condicion_actividad\" \u003d\u003d\u003d \"7 - Desempleo abierto\").count * 100)/indg.count.toDouble}%.2f%% Desempleo Abierto\\n${(indg.where($\"condicion_actividad\" \u003d\u003d\u003d \"8 - Desempleo oculto\").count * 100)/indg.count.toDouble}%.2f%% Desempleo Oculto\")\n"
    },
    {
      "cell_type": "markdown",
      "metadata": {},
      "source": "## ¿Cuál es la cantidad de Indígenas que estan con desempleo abierto(busqueda activamente de empleo durante el mes anterior a la encuesta sin exito)?\n"
    },
    {
      "cell_type": "code",
      "execution_count": 7,
      "metadata": {
        "autoscroll": "auto"
      },
      "outputs": [],
      "source": "indg.where($\"condicion_actividad\" \u003d\u003d\u003d \"7 - Desempleo abierto\").count"
    },
    {
      "cell_type": "markdown",
      "metadata": {},
      "source": "## ¿Cuál es el nivel de educación que tienen los Indígenas desempleados abiertamente?"
    },
    {
      "cell_type": "code",
      "execution_count": 9,
      "metadata": {
        "autoscroll": "auto"
      },
      "outputs": [],
      "source": "val indgEduc \u003d  indg.where($\"condicion_actividad\" \u003d\u003d\u003d \"7 - Desempleo abierto\") \nz.show(\tindgEduc.groupBy(\"nivel_de_instruccion\").count().as(\"cantidad\").sort(desc(\"count\")))"
    },
    {
      "cell_type": "markdown",
      "metadata": {},
      "source": "## ¿Puede una persona Indigena con desempleo abierto, tener un ingreso laboral diferente de 0? ¿No es esto contradictorio? Compruebelo."
    },
    {
      "cell_type": "code",
      "execution_count": 11,
      "metadata": {
        "autoscroll": "auto"
      },
      "outputs": [],
      "source": "indgEduc.where($\"ingreso_laboral\" \u003e 0)\nindgEduc.where($\"ingreso_laboral\" \u003e 0).count\n"
    },
    {
      "cell_type": "markdown",
      "metadata": {},
      "source": "### ¿Cómo es posible que una persona con un \"desempleo abierto\" tenga un ingreso laboral que no sea 0?\nSe puede considerar varios posibles errores:\n* Primero: La sentencia este mal escrita o con un error, lo cual es posible, pero se descarta al usar otra herramienta para comprobar \nsu veracidad (excel) en el cual demuestra usando filtros que existen encuestados indigenas, con desempleo oculto que tienen \nun ingreso laboral mayor a 0.\n\n* Segundo: El archivo de origen vino con defectos, otra opcion posible, pero tambien descartada cuando leemos los significados de cada\ncolumna.\n\n* Posible Respuesta: La pagina web desde donde se proveyeron los datos, ofrece información acerca de que es el desempleo oculto y que \nconsidera el mismo. Siendo asi el significado de esta variable \"Personas sin empleo, que no estuvieron empleados en la semana pasada y que buscaron trabajo e\nhicieron gestiones concretas para conseguir empleo o para establecer algún negocio en las cuatro semanas anteriores a la entrevista.\"\n\nSe puede considerar como verdadera esta sentencia ya que, podemos deducir que el ingreso laboral que decretaron estas personas en la encuesta\npertenece al ingreso laboral que recibian una semana antes de la encuesta, cuando aun estaban empleados.\n\n### ¿Cuál es el valor máximo y minimo que gana un indígena que tiene el nivel mas alto de estudios (Post-grado)?"
    },
    {
      "cell_type": "code",
      "execution_count": 13,
      "metadata": {
        "autoscroll": "auto"
      },
      "outputs": [],
      "source": "val indgEducPost \u003d (indg.where($\"nivel_de_instruccion\" \u003d\u003d\u003d \"10 - Post-grado\"))\nindgEducPost.select(\"ingreso_laboral\").summary(\"max\", \"min\").show()"
    },
    {
      "cell_type": "markdown",
      "metadata": {},
      "source": "## ¿Existe una diferencia de salario que un indigena(post-grado) recibe de ingreso laboral promedio, con respecto al valor de ingreso laboral promedio de un ecuatoriano meztizo(post-grado)?"
    },
    {
      "cell_type": "code",
      "execution_count": 15,
      "metadata": {
        "autoscroll": "auto"
      },
      "outputs": [],
      "source": "indgEducPost.select(\"ingreso_laboral\").summary().show()"
    },
    {
      "cell_type": "markdown",
      "metadata": {},
      "source": "#### ¿Existen valores nulos?\n"
    },
    {
      "cell_type": "code",
      "execution_count": 17,
      "metadata": {
        "autoscroll": "auto"
      },
      "outputs": [],
      "source": "indgEducPost.select(\"ingreso_laboral\").groupBy(\"ingreso_laboral\").count().sort(desc(\"count\")).show(5)"
    },
    {
      "cell_type": "markdown",
      "metadata": {},
      "source": "#### Limpieza de Nulos"
    },
    {
      "cell_type": "code",
      "execution_count": 19,
      "metadata": {
        "autoscroll": "auto"
      },
      "outputs": [],
      "source": "val postIndg \u003d indgEducPost.select(\"ingreso_laboral\").where($\"ingreso_laboral\".isNotNull)"
    },
    {
      "cell_type": "markdown",
      "metadata": {},
      "source": "#### Busqueda de acotas"
    },
    {
      "cell_type": "code",
      "execution_count": 21,
      "metadata": {
        "autoscroll": "auto"
      },
      "outputs": [],
      "source": "val cantValoresEnDifRangos \u003d  scala.collection.mutable.ListBuffer[Long]()\n\t\tval minValue \u003d 0.0\n\t\tval maxValue \u003d 5264\n\t\tval bins \u003d 5.0\n\t\tval range \u003d (maxValue - minValue)/bins\n\t\tvar minCounter \u003d minValue\n\t\tvar maxCounter \u003d range\n\t\twhile (minCounter \u003c maxValue){\n\t\t  val valoresEnUnRango \u003d postIndg.where($\"ingreso_laboral\".between(minCounter,maxCounter))\n\t\t  cantValoresEnDifRangos.+\u003d(valoresEnUnRango.count())\n\t\t  minCounter \u003d maxCounter\n\t\t  maxCounter \u003d maxCounter + range\n\t\t}"
    },
    {
      "cell_type": "markdown",
      "metadata": {},
      "source": "#### Resultados de rangos"
    },
    {
      "cell_type": "code",
      "execution_count": 23,
      "metadata": {
        "autoscroll": "auto"
      },
      "outputs": [],
      "source": "println(\"Valores en diferentes rangos: \")\ncantValoresEnDifRangos.foreach(println)\n\t\t/* 77 rango 0 - 1053\n\t\t49 rango 1053 - 2106\n\t\t23 rango 2106 - 3158\n\t\t8  rango 3158 - 4211 \n\t\t2  rango 4211 - 5264*/"
    },
    {
      "cell_type": "markdown",
      "metadata": {},
      "source": "#### Promedio"
    },
    {
      "cell_type": "code",
      "execution_count": 25,
      "metadata": {
        "autoscroll": "auto"
      },
      "outputs": [],
      "source": "val prom \u003d postIndg.select(mean(\"ingreso_laboral\")).first()(0).asInstanceOf[Double]"
    },
    {
      "cell_type": "markdown",
      "metadata": {},
      "source": "#### Desviacion estandar"
    },
    {
      "cell_type": "code",
      "execution_count": 27,
      "metadata": {
        "autoscroll": "auto"
      },
      "outputs": [],
      "source": "val desviacion \u003d postIndg.select(stddev(\"ingreso_laboral\")).first()(0).asInstanceOf[Double]"
    },
    {
      "cell_type": "markdown",
      "metadata": {},
      "source": "#### Limite Inferior"
    },
    {
      "cell_type": "markdown",
      "metadata": {},
      "source": "#### Limite Superior"
    },
    {
      "cell_type": "code",
      "execution_count": 30,
      "metadata": {
        "autoscroll": "auto"
      },
      "outputs": [],
      "source": "val limInf \u003d prom - 3 * desviacion"
    },
    {
      "cell_type": "code",
      "execution_count": 31,
      "metadata": {
        "autoscroll": "auto"
      },
      "outputs": [],
      "source": "val limSup \u003d prom + 3 * desviacion"
    },
    {
      "cell_type": "code",
      "execution_count": 32,
      "metadata": {
        "autoscroll": "auto"
      },
      "outputs": [],
      "source": "val indgPostSinAcotas \u003d postIndg.where($\"ingreso_laboral\" \u003e limInf \u0026\u0026 $\"ingreso_laboral\" \u003c limSup)"
    },
    {
      "cell_type": "markdown",
      "metadata": {},
      "source": "#### sin acotas"
    },
    {
      "cell_type": "markdown",
      "metadata": {},
      "source": "#### con acotas"
    },
    {
      "cell_type": "code",
      "execution_count": 35,
      "metadata": {
        "autoscroll": "auto"
      },
      "outputs": [],
      "source": "indgPostSinAcotas.select(\"ingreso_laboral\").summary().show\t"
    },
    {
      "cell_type": "code",
      "execution_count": 36,
      "metadata": {
        "autoscroll": "auto"
      },
      "outputs": [],
      "source": "indgEducPost.select(\"ingreso_laboral\").summary().show()"
    },
    {
      "cell_type": "code",
      "execution_count": 37,
      "metadata": {
        "autoscroll": "auto"
      },
      "outputs": [],
      "source": "val mezt \u003d data.where($\"etnia\" \u003d\u003d\u003d \"6 - Mestizo\")\nval meztEducPost \u003d mezt.where($\"nivel_de_instruccion\" \u003d\u003d\u003d \"10 - Post-grado\")"
    },
    {
      "cell_type": "markdown",
      "metadata": {},
      "source": "#### Summary de Meztizos con Postgrado (Con acotas)"
    },
    {
      "cell_type": "code",
      "execution_count": 39,
      "metadata": {
        "autoscroll": "auto"
      },
      "outputs": [],
      "source": "meztEducPost.select(\"ingreso_laboral\").summary().show()"
    },
    {
      "cell_type": "markdown",
      "metadata": {},
      "source": "#### ¿Existen valores nulos?"
    },
    {
      "cell_type": "code",
      "execution_count": 41,
      "metadata": {
        "autoscroll": "auto"
      },
      "outputs": [],
      "source": "meztEducPost.select(\"ingreso_laboral\").groupBy(\"ingreso_laboral\").count().sort(desc(\"count\")).show(5)"
    },
    {
      "cell_type": "markdown",
      "metadata": {},
      "source": "#### Limpieza de Nulos"
    },
    {
      "cell_type": "code",
      "execution_count": 43,
      "metadata": {
        "autoscroll": "auto"
      },
      "outputs": [],
      "source": "val postMezt \u003d meztEducPost.select(\"ingreso_laboral\").where($\"ingreso_laboral\".isNotNull)"
    },
    {
      "cell_type": "markdown",
      "metadata": {},
      "source": " \n#### Busqueda de acotas"
    },
    {
      "cell_type": "code",
      "execution_count": 45,
      "metadata": {
        "autoscroll": "auto"
      },
      "outputs": [],
      "source": "val cantValoresEnDifRangos \u003d  scala.collection.mutable.ListBuffer[Long]()\nval minValue \u003d 0.0\nval maxValue \u003d 30000\nval bins \u003d 5.0\nval range \u003d (maxValue - minValue)/bins\nvar minCounter \u003d minValue\nvar maxCounter \u003d range\nwhile (minCounter \u003c maxValue){\nval valoresEnUnRango \u003d postMezt.where($\"ingreso_laboral\".between(minCounter,maxCounter))\ncantValoresEnDifRangos.+\u003d(valoresEnUnRango.count())\nminCounter \u003d maxCounter\nmaxCounter \u003d maxCounter + range\n}"
    },
    {
      "cell_type": "markdown",
      "metadata": {},
      "source": "#### Resultados de rangos"
    },
    {
      "cell_type": "code",
      "execution_count": 47,
      "metadata": {
        "autoscroll": "auto"
      },
      "outputs": [],
      "source": "println(\"Valores en diferentes rangos: \")\ncantValoresEnDifRangos.foreach(println)"
    },
    {
      "cell_type": "markdown",
      "metadata": {},
      "source": "#### Promedio"
    },
    {
      "cell_type": "code",
      "execution_count": 49,
      "metadata": {
        "autoscroll": "auto"
      },
      "outputs": [],
      "source": "val prom \u003d postMezt.select(mean(\"ingreso_laboral\")).first()(0).asInstanceOf[Double]"
    },
    {
      "cell_type": "markdown",
      "metadata": {},
      "source": "#### Desviacion estandar"
    },
    {
      "cell_type": "code",
      "execution_count": 51,
      "metadata": {
        "autoscroll": "auto"
      },
      "outputs": [],
      "source": "val desviacion \u003d postMezt.select(stddev(\"ingreso_laboral\")).first()(0).asInstanceOf[Double]"
    },
    {
      "cell_type": "markdown",
      "metadata": {},
      "source": "#### Limite Inferior"
    },
    {
      "cell_type": "markdown",
      "metadata": {},
      "source": "#### Limite Superior"
    },
    {
      "cell_type": "code",
      "execution_count": 54,
      "metadata": {
        "autoscroll": "auto"
      },
      "outputs": [],
      "source": "val limInf \u003d prom - 3 * desviacion"
    },
    {
      "cell_type": "code",
      "execution_count": 55,
      "metadata": {
        "autoscroll": "auto"
      },
      "outputs": [],
      "source": "val limSup \u003d prom + 3 * desviacion"
    },
    {
      "cell_type": "markdown",
      "metadata": {},
      "source": "#### Meztizos con Postgrado (Sin acotas)"
    },
    {
      "cell_type": "code",
      "execution_count": 57,
      "metadata": {
        "autoscroll": "auto"
      },
      "outputs": [],
      "source": "val meztPostSinAcotas \u003d postMezt.where($\"ingreso_laboral\" \u003e limInf \u0026\u0026 $\"ingreso_laboral\" \u003c limSup)"
    },
    {
      "cell_type": "markdown",
      "metadata": {},
      "source": "Sin acotas"
    },
    {
      "cell_type": "markdown",
      "metadata": {},
      "source": "Con acotas"
    },
    {
      "cell_type": "code",
      "execution_count": 60,
      "metadata": {
        "autoscroll": "auto"
      },
      "outputs": [],
      "source": "meztPostSinAcotas.select(\"ingreso_laboral\").summary().show\t\t"
    },
    {
      "cell_type": "code",
      "execution_count": 61,
      "metadata": {
        "autoscroll": "auto"
      },
      "outputs": [],
      "source": "meztEducPost.select(\"ingreso_laboral\").summary().show()"
    },
    {
      "cell_type": "markdown",
      "metadata": {},
      "source": " \n## Boxplots"
    },
    {
      "cell_type": "markdown",
      "metadata": {},
      "source": "Indigenas"
    },
    {
      "cell_type": "markdown",
      "metadata": {},
      "source": "Mestizos"
    },
    {
      "cell_type": "code",
      "execution_count": 65,
      "metadata": {
        "autoscroll": "auto"
      },
      "outputs": [],
      "source": "val cuartiles \u003d postIndg.stat.approxQuantile(\"ingreso_laboral\", Array (0.25, 0.75), 0.0)\nval q1 \u003d cuartiles(0)\nval q3 \u003d cuartiles(1)\nval iQR \u003d q3 -q1\nval inferiorIQR \u003d q1 -1.5 * iQR\nval superiorIQR \u003d q3 + 1.5 * iQR\nval indgSinAcotasIQR \u003d postIndg.where($\"ingreso_laboral\" \u003e inferiorIQR \u0026\u0026 $\"ingreso_laboral\" \u003c superiorIQR)\nindgSinAcotasIQR.select(\"ingreso_laboral\").summary().show"
    },
    {
      "cell_type": "code",
      "execution_count": 66,
      "metadata": {
        "autoscroll": "auto"
      },
      "outputs": [],
      "source": "val cuartiles \u003d postMezt.stat.approxQuantile(\"ingreso_laboral\", Array (0.25, 0.75), 0.0)\nval q1 \u003d cuartiles(0)\nval q3 \u003d cuartiles(1)\nval iQR \u003d q3 -q1\nval inferiorIQR \u003d q1 -1.5 * iQR\nval superiorIQR \u003d q3 + 1.5 * iQR\nval meztSinAcotasIQR \u003d postMezt.where($\"ingreso_laboral\" \u003e inferiorIQR \u0026\u0026 $\"ingreso_laboral\" \u003c superiorIQR)\nmeztSinAcotasIQR.select(\"ingreso_laboral\").summary().show"
    },
    {
      "cell_type": "markdown",
      "metadata": {},
      "source": "Considerando los resultados de los 2 algoritmos, se puede deducir que en efecto, existe una diferencia entre lo que gana un indigena (post-grado) en promedio,\ncon lo que gana un meztizo de similares caracteristicas, pero realmente no es una diferencia significativa, es un valor encontrado en un rango entre 130 -170.\nVease:\n\nAlgoritmo 1 (salario promedio):\n\nindigena \u003d  1387.386075949367\t\tmeztizo \u003d 1553.2442199775533\n\ndiferencia \u003d | 1387.39 - 1553.24 | \u003d |- 165.85 |\ndiferencia \u003d 165.85\n\nAlgoritmo 2 (salario promedio):\n\nindigena \u003d  1291.5526315789473\t\tmeztizo \u003d 1425.7911637173327\n\ndiferencia \u003d | 1291.55 - 1425.8 | \u003d |- 134.25 |\ndiferencia \u003d 134.25*/"
    },
    {
      "cell_type": "markdown",
      "metadata": {},
      "source": "#### ¿Es posible que con el tiempo los niveles de empleo adecuado y desempleo en los indigenas hayan aumentado con respecto a los demas grupos poblacionales? ¿Es posible demostrar como ha variado su condicion laboral con el paso de los años?"
    },
    {
      "cell_type": "code",
      "execution_count": 69,
      "metadata": {
        "autoscroll": "auto"
      },
      "outputs": [],
      "source": "z.show(indg.stat.crosstab(\"condicion_actividad\", \"anio\").orderBy(\"condicion_actividad_anio\"))"
    },
    {
      "cell_type": "markdown",
      "metadata": {},
      "source": "¿Que hay con respecto a las personas que no son Indigenas? ¿Se puede observar una similaridad en cuanto a la estadistica?"
    },
    {
      "cell_type": "code",
      "execution_count": 71,
      "metadata": {
        "autoscroll": "auto"
      },
      "outputs": [],
      "source": "val noIndg \u003d data.where($\"etnia\" \u003d!\u003d \"1 - Indígena\")\nz.show(noIndg.stat.crosstab(\"condicion_actividad\", \"anio\").orderBy(\"condicion_actividad_anio\"))"
    },
    {
      "cell_type": "markdown",
      "metadata": {},
      "source": "Los datos demuestran que no ha habido algun tipo de discriminacion, todos los grupos poblacionales han demostrado que han tendido a la baja con respecto al empleo adecuado en el ecuador\t*/"
    },
    {
      "cell_type": "markdown",
      "metadata": {},
      "source": "#### Cual es el porcentaje de ingreso laboral que un indigena genera?\n"
    },
    {
      "cell_type": "code",
      "execution_count": 74,
      "metadata": {
        "autoscroll": "auto"
      },
      "outputs": [],
      "source": "print(f\"${(indg.count * 100)/data.count.toDouble}%.2f%% De Indígenas encuestados\")"
    },
    {
      "cell_type": "markdown",
      "metadata": {},
      "source": "#### De las personas indigenas ¿Es posible que hayan sido las mujeres las mas que menor valor de ingreso han obtenido? ¿Existe alguna diferencia significativa entre el porcentaje de ingresos laborales que generaron las mujeres con respecto a los hombres?"
    },
    {
      "cell_type": "code",
      "execution_count": 76,
      "metadata": {
        "autoscroll": "auto"
      },
      "outputs": [],
      "source": "\tz.show(indg.groupBy(\"anio\").pivot(\"genero\").agg( round((sum(\"ingreso_laboral\")*100)/13925210) ).orderBy(\"anio\"))"
    },
    {
      "cell_type": "markdown",
      "metadata": {},
      "source": "## Variables a comparar\nEn el Ecuador historicamente los indigenas han sido el grupo mas vulnerable desde la conquista de los espanoles,desde entonces este grupo etnico ha sido discriminado por los demas grupos, relegandolos a una posicion desfavorable con respecto a otros grupos etnicos, al otro lado de la balanza tenemos a los mestizos quienes en la actualidad son el grupo etnico comun en el pais y muchos lo consideran como el privilegiado \n\nActualmente existe la creencia de que estas diferencias ya quedaron en el pasado y que actualmente no existe gran diferencia entre estos grupos, por lo que buscaremos datos acerca del deseempleo y la evolucion de este en ambos grupos sociales para despues compararlos y llegar a una conclusion "
    },
    {
      "cell_type": "markdown",
      "metadata": {},
      "source": "#### Porcentaje de desempleo indigena en el area urbana y rural \nPara estas consultas nos centraremos en las siguientes columnas:\n* area: La columna describe el area donde se encuentra viviendo la persona (rural o urbana)\n* condicion_activada: La columna describe como estasu condicion laboral actualmente es decir si se encuentra empleado o no\n\nEn las siguientes consultas hacemos uso de un grafico tipo pastel porque es la que se utiliza para mostrar la proporcion que le responde a cada categoria, ademas no existen mas de 5 categorias\n\nPara realizar la consulta primero creamos la variable indgDes usamos la funcion select para seleccionar las columna condicion_actividad usamos la funcion where para darle la condicion de que solo use los datos que tengan en la columna condicion actividad deseempleo abierto y finalmente usamos la funcion count  para que nos de el numero de datos que cumplen esta condicion \nahora creamos la variables des donde se almacenara el resultado aqui igualmente usamos la funcion select y usamos la columna area y condicin_actividad le damos la condicion de  desempleo abierto y usamos la funcion groupBy para agrupar los valores segun la columna (area) para que el resultado aparesca dividido en urbana y rural, usamos la funcion count para obtener el numero total de personas con desempleo en estas areas\nfinalmente usamos esta variable des y seleccionamos aqui al momento de seleccionar usaremos \"des\" que nos funciona para seleccionar las columnas y poder realizar operaciones con estas, a la columna count la dividiremos con la variable indgDes y multiplicaremos por 100 para obtener el porcentaje, finalmente usaremos la funcion .as para renombrar la columna, usamos la funcion z.show para mostrar la imagen\n\nPara realizar la validacion de los datos realizaremos las mismas consultas pero en sql usando la funcion createOrReplaceTextView() para crear una tabla a la que podremos hacerle las consultas sql y almacenarlas en variables para despues graficarlas "
    },
    {
      "cell_type": "markdown",
      "metadata": {},
      "source": "#### indigenas"
    },
    {
      "cell_type": "markdown",
      "metadata": {},
      "source": "#### meztizos"
    },
    {
      "cell_type": "code",
      "execution_count": 81,
      "metadata": {
        "autoscroll": "auto"
      },
      "outputs": [],
      "source": "val indgDes \u003d indg.select(\"area\",\"condicion_actividad\").where(column(\"condicion_actividad\")\u003d\u003d\u003d\"7 - Desempleo abierto\").count \nval des \u003d (indg.select(\"area\",\"condicion_actividad\").where(column(\"condicion_actividad\")\u003d\u003d\u003d\"7 - Desempleo abierto\").groupBy(\"area\").count)\nz.show(des.select(des(\"area\"),(des(\"count\")/indgDes *100).as(\"porcentaje deseempleo\")))"
    },
    {
      "cell_type": "code",
      "execution_count": 82,
      "metadata": {
        "autoscroll": "auto"
      },
      "outputs": [],
      "source": "val mezDes \u003d mezt.select(\"area\",\"condicion_actividad\").where(column(\"condicion_actividad\")\u003d\u003d\u003d\"7 - Desempleo abierto\").count\nval des \u003d (mezt.select(\"area\",\"condicion_actividad\").where(column(\"condicion_actividad\")\u003d\u003d\u003d\"7 - Desempleo abierto\").groupBy(\"area\").count)\nz.show(des.select(des(\"area\"),(des(\"count\")/mezDes *100).as(\"porcentaje deseempleo\")))"
    },
    {
      "cell_type": "markdown",
      "metadata": {},
      "source": "Validacion"
    },
    {
      "cell_type": "code",
      "execution_count": 84,
      "metadata": {
        "autoscroll": "auto"
      },
      "outputs": [],
      "source": "indg.createOrReplaceTempView(\"tabla\")\nval aux \u003d spark.sql(\"\"\"\n    SELECT count(*)\n    FROM tabla where condicion_actividad \u003d\"7 - Desempleo abierto\"\n\"\"\")\n\nval aux2 \u003d spark.sql(\"\"\"\n   select area,(count(condicion_actividad)/915 *100) FROM  tabla\n   where condicion_actividad \u003d \"7 - Desempleo abierto\"\n   group By(area) \n   having count(*)\n\"\"\")\nz.show(aux2)"
    },
    {
      "cell_type": "code",
      "execution_count": 85,
      "metadata": {
        "autoscroll": "auto"
      },
      "outputs": [],
      "source": "mezt.createOrReplaceTempView(\"tabla2\")\nval aux \u003d spark.sql(\"\"\"\n    SELECT count(*)\n    FROM tabla2 where condicion_actividad \u003d\"7 - Desempleo abierto\"\n\"\"\")\n\nval aux2 \u003d spark.sql(\"\"\"\n   select area,(count(condicion_actividad)/1823 *100) FROM  tabla2\n   where condicion_actividad \u003d \"7 - Desempleo abierto\"\n   group By(area) \n   having count(*)\n\"\"\")\nz.show(aux2)"
    },
    {
      "cell_type": "markdown",
      "metadata": {},
      "source": "podemos obserar la diferencia que existe entre la poblacion deseempleada y su distribucion entre el area urbana y rural, vemos la variacion que existe sobre todo en el area rural viendo que en la poblacion meztiza el deseempleo en el area rural es mucho menor que en la poblacion indigena\n"
    },
    {
      "cell_type": "markdown",
      "metadata": {},
      "source": "%md\n#### Media de ingresos de indigenas segun el grupo de ocupacion\n\nSe cree que los indigenas no suelen ser tratados con equidad al momento de ser pagados con diferencia a otros grupos que suelen ser denominados privilegiados por lo que intentaremos averiguar si esto es verdad\n\nPara estas consultas usaremos las siguientes columnas:\n* grupo_ocupacion: Es la rama o sextor  de trabajo en la que se opera\n* ingreso_laboral: es la cantidad de dinero que resive mensualmente por su trabajo\n\nTambien se ocupa el concepto de media(funcion avg) que es una medida de tendencia central que representa el punto medio en un conjunto de valores \nEn esta consulta se deveria usar la grafica tipo pastel pero la columna grupo ocupacion tiene mas de 5 categorias, por lo que usaremos un grafico de barras que son los mas utiles para comparar categorias, que es lo que buscamos en esta consulta\n\nPara realizar la consulta seleccionamos las columnas anterioremente senaladas con la funcion select y las agruparemos por el grupo de ocupacion usando la funcion groupBy de aqui sacaremos el promedio del ingreso laboral segun lo anteriormente agrupado, de los datos obtenidos hasta aqui seleccionaremos ambas columnas y renombraremos la media del ingreso laboral por media de ingresos\n\nRealizaremos igualmente la validacion en sql para ver que los datos coincidan\n"
    },
    {
      "cell_type": "markdown",
      "metadata": {},
      "source": "#### Indigenas"
    },
    {
      "cell_type": "markdown",
      "metadata": {},
      "source": "#### Meztizos"
    },
    {
      "cell_type": "code",
      "execution_count": 90,
      "metadata": {
        "autoscroll": "auto"
      },
      "outputs": [],
      "source": "z.show(indg.select(\"grupo_ocupacion\",\"ingreso_laboral\").groupBy(\"grupo_ocupacion\").avg(\"ingreso_laboral\")\n.select($\"grupo_ocupacion\",$\"avg(ingreso_laboral)\".as(\"media de ingresos\")))"
    },
    {
      "cell_type": "code",
      "execution_count": 91,
      "metadata": {
        "autoscroll": "auto"
      },
      "outputs": [],
      "source": "z.show(mezt.select(\"grupo_ocupacion\",\"ingreso_laboral\").groupBy(\"grupo_ocupacion\").avg(\"ingreso_laboral\").select($\"grupo_ocupacion\",$\"avg(ingreso_laboral)\".as(\"media de ingresos\")))"
    },
    {
      "cell_type": "markdown",
      "metadata": {},
      "source": "validacion"
    },
    {
      "cell_type": "code",
      "execution_count": 93,
      "metadata": {
        "autoscroll": "auto"
      },
      "outputs": [],
      "source": "val aux2 \u003d spark.sql(\"\"\"\n   select grupo_ocupacion, avg(ingreso_laboral) as media_de_ingresos from tabla \n   group By(grupo_ocupacion)\n\"\"\")\nz.show(aux2)"
    },
    {
      "cell_type": "code",
      "execution_count": 94,
      "metadata": {
        "autoscroll": "auto"
      },
      "outputs": [],
      "source": "val aux2 \u003d spark.sql(\"\"\"\n   select grupo_ocupacion, avg(ingreso_laboral) as media_de_ingresos from tabla2 \n   group By(grupo_ocupacion)\n\"\"\")\nz.show(aux2)"
    },
    {
      "cell_type": "markdown",
      "metadata": {},
      "source": "podemos observar la media de ingresos por cada grupo de ocupacion, en general vemos que en los mismos campos los indigenas ganan menos que los meztizos esto no pude ser debido a que los meztizos pueden ocupar cagos mas altos en los mismos campos"
    },
    {
      "cell_type": "markdown",
      "metadata": {},
      "source": "#### Media de ingresos de indigenas segun la zona urbana o rural\nAhora sabemos que los meztizos ganan mas que los indigenas, historicamente la zona urbana tiene empleos mejor pagados que la rural por lo que queremos ver si esto podria explicar los datos anteriores\nPara estas consultas nos centraremos en las siguientes columnas:\n* area: La columna describe el area donde se encuentra viviendo la persona (rural o urbana)\n* ingreso_laboral: es la cantidad de dinero que resive mensualmente por su trabajo\nEn las siguientes consultas hacemos uso de un grafico tipo pastel porque es la que se utiliza para mostrar la proporcion que le responde a cada categoria, ademas no existen mas de 5 categorias\n\nPara realizar la consulta seleccionamos las columnas anterioremente senaladas con la funcion select y las agruparemos por el are usando la funcion groupBy de aqui sacaremos el promedio del ingreso laboral segun lo anteriormente agrupado, de los datos obtenidos hasta aqui seleccionaremos ambas columnas y renombraremos la media del ingreso laboral por media de ingresos\n\nValidaremos la consulta usando sql para comparar si los datos y graficas son iguales\n"
    },
    {
      "cell_type": "markdown",
      "metadata": {},
      "source": "#### indigenas"
    },
    {
      "cell_type": "markdown",
      "metadata": {},
      "source": "#### meztizos"
    },
    {
      "cell_type": "code",
      "execution_count": 99,
      "metadata": {
        "autoscroll": "auto"
      },
      "outputs": [],
      "source": "z.show(indg.select(\"area\",\"ingreso_laboral\").groupBy(\"area\").avg(\"ingreso_laboral\").select($\"area\",$\"avg(ingreso_laboral)\".as(\"media de ingresos\")))"
    },
    {
      "cell_type": "code",
      "execution_count": 100,
      "metadata": {
        "autoscroll": "auto"
      },
      "outputs": [],
      "source": "z.show(mezt.select(\"area\",\"ingreso_laboral\").groupBy(\"area\").avg(\"ingreso_laboral\").select($\"area\",$\"avg(ingreso_laboral)\".as(\"media de ingresos\")))"
    },
    {
      "cell_type": "markdown",
      "metadata": {},
      "source": "Validacion "
    },
    {
      "cell_type": "code",
      "execution_count": 102,
      "metadata": {
        "autoscroll": "auto"
      },
      "outputs": [],
      "source": "val aux2 \u003d spark.sql(\"\"\"\n   select area, avg(ingreso_laboral) as media_de_ingresos from tabla \n   group By(area)\n\"\"\")\nz.show(aux2)"
    },
    {
      "cell_type": "code",
      "execution_count": 103,
      "metadata": {
        "autoscroll": "auto"
      },
      "outputs": [],
      "source": "val aux2 \u003d spark.sql(\"\"\"\n   select area, avg(ingreso_laboral) as media_de_ingresos from tabla2 \n   group By(area)\n\"\"\")\nz.show(aux2)"
    },
    {
      "cell_type": "markdown",
      "metadata": {},
      "source": " \nEn esta consulta podemos confirmar que los indigenas ganan menos que los meztizos en el area urbana y rural, por lo que confirmamos que esta brecha salarial es real"
    },
    {
      "cell_type": "markdown",
      "metadata": {},
      "source": "#### Media de ingresos  de indigenas segun el nivel de instruccion\nYa confirmamos que los indigenas ganan menos independientemente del sector en el que viven, ahora podemos suponer que esto es debido a que ganan menos al no tener el mismo nivel de educacion, por lo que debemos verificar si esta hipotesis es valida\nPara estas consultas nos centraremos en las siguientes columnas:\n* nivel_de_instruccion: La columna describe el grado de estudios que tienen las personas encuestadas\n* ingreso_laboral: es la cantidad de dinero que resive mensualmente por su trabajo\n\nPara realizar la consulta seleccionamos las columnas anterioremente senaladas con la funcion select y las agruparemos por el grupo de ocupacion usando la funcion groupBy de aqui sacaremos el promedio del ingreso laboral segun lo anteriormente agrupado, usamos la funcion orderBy para ordenar los datos y colocamos la columna nivel_de_instruccion para que se ordenen segun los valores en esta , por defecto se ordenara de forma ascendente, de los datos obtenidos hasta aqui seleccionaremos ambas columnas y renombraremos la media del ingreso laboral por media de ingresos\n"
    },
    {
      "cell_type": "markdown",
      "metadata": {},
      "source": "indigenas"
    },
    {
      "cell_type": "code",
      "execution_count": 107,
      "metadata": {
        "autoscroll": "auto"
      },
      "outputs": [],
      "source": "z.show(indg.select(\"nivel_de_instruccion\",\"ingreso_laboral\").groupBy(\"nivel_de_instruccion\").avg(\"ingreso_laboral\").orderBy(\"nivel_de_instruccion\")\n.select($\"nivel_de_instruccion\",$\"avg(ingreso_laboral)\".as(\"media de ingresos\")))"
    },
    {
      "cell_type": "markdown",
      "metadata": {},
      "source": "meztizos"
    },
    {
      "cell_type": "code",
      "execution_count": 109,
      "metadata": {
        "autoscroll": "auto"
      },
      "outputs": [],
      "source": "z.show(mezt.select(\"nivel_de_instruccion\",\"ingreso_laboral\").groupBy(\"nivel_de_instruccion\").avg(\"ingreso_laboral\").orderBy(\"nivel_de_instruccion\").select($\"nivel_de_instruccion\",$\"avg(ingreso_laboral)\".as(\"media de ingresos\")))"
    },
    {
      "cell_type": "markdown",
      "metadata": {},
      "source": "finalmente podemos comprobar que pese a tener el mismo grado de estudio en promedio los meztizos ganan mas dinero que los indigenas por lo que en efecto podemos esta hablando de que aun existe discriminacion a la hora de dar puestos "
    },
    {
      "cell_type": "markdown",
      "metadata": {},
      "source": "#### Numero de desempleo indigena segun el nivel de instruccion\nAhora nos enfocaremos en la categoria  de deseempleo abierto es decir que no incluye otras formas de empleo inadecuado como trabajos transitorios \nPara estas consultas nos centraremos en las siguientes columnas:\n* nivel_de_instruccion: La columna describe el grado de estudios que tienen las personas encuestadas\n* condicion_activada: La columna describe como esta su condicion laboral actualmente es decir si se encuentra empleado o no\n\nAhora averiguaremos como es porcentualmente el desempleo en ambos grupos etnicos para averiguar si existe una diferencia considerable entre el porcentaje de deseemplo entre estos grupos\nPara la grafica usaremos un grafico de barras que son los mas utiles para comparar categorias y su frecuencia , que es lo que buscamos en esta consulta\n\nPara realizar la consulta seleccionamos las columnas anterioremente senaladas con la funcion select y colocaremos la condicion usando la funcion where para que solo se obtengan los datos que en la columna condicion_actividad sean iguales a deseempleo abierto , agrupamos estos datos segun la columna nivel_de_instruccion con la funcion groupBy() y contamos cuantos datos hay segun la agrupacion  con la funcion count, los ordenamos segun la columna nivel_de_instruccion con la funcion orderBy y adicionalmente tambien usamos la funcion .desc para que se ordenen de forma descendente, seleccionamos las columna  resultantes y dividimos la columna count para la variable indgDes(indigenas deseempleados) la multiplicamos por 100 para obtener el porcentaje, seleccionamos las columnas resultantes y cambiamos el nombre de la segunda columna por porcentaje deseempleo"
    },
    {
      "cell_type": "markdown",
      "metadata": {},
      "source": "indigenas"
    },
    {
      "cell_type": "code",
      "execution_count": 113,
      "metadata": {
        "autoscroll": "auto"
      },
      "outputs": [],
      "source": "z.show(indg.select(\"nivel_de_instruccion\",\"condicion_actividad\").where(column(\"condicion_actividad\")\u003d\u003d\u003d\"7 - Desempleo abierto\")\n.groupBy(\"nivel_de_instruccion\").count.orderBy(col(\"nivel_de_instruccion\").desc).select($\"nivel_de_instruccion\", $\"count\"/indgDes *100)\n.select($\"nivel_de_instruccion\",$\"((count / 915) * 100)\".as(\"porcentaje deseempleo\")))\n"
    },
    {
      "cell_type": "markdown",
      "metadata": {},
      "source": "meztizos"
    },
    {
      "cell_type": "code",
      "execution_count": 115,
      "metadata": {
        "autoscroll": "auto"
      },
      "outputs": [],
      "source": "z.show(mezt.select(\"nivel_de_instruccion\",\"condicion_actividad\").where(column(\"condicion_actividad\")\u003d\u003d\u003d\"7 - Desempleo abierto\")\n.groupBy(\"nivel_de_instruccion\").count.orderBy(col(\"nivel_de_instruccion\").desc).select($\"nivel_de_instruccion\", $\"count\"/mezDes *100)\n.select($\"nivel_de_instruccion\",$\"((count / 18213) * 100)\".as(\"porcentaje deseempleo\")))"
    },
    {
      "cell_type": "code",
      "execution_count": 116,
      "metadata": {
        "autoscroll": "auto"
      },
      "outputs": [],
      "source": "Podemos apreciar que el porcentaje de deseempleo sigue una tendencia similar en ambos grupos,  vemos que en la categoria de educacion superior universitaria el deseempleo es mucho mayor en los mestizos por lo que podrmmos concluir que los meztizos tienden a ir mas a la universidad a diferencia de los indigenas"
    },
    {
      "cell_type": "markdown",
      "metadata": {},
      "source": "#### Porcentaje de desempleo segun el estado civil\nEl estado civil influye en alguna manera en el indice de deseempleo?, existe alguna diferencia con los meztizos ?\nPara estas consultas nos centraremos en las siguientes columnas:\n* estado civil: La columna describe si la persona se encuentra soltera o tiene alguna relacion que establece ciertos derechos y deberes\n* condicion_activada: La columna describe como estasu condicion laboral actualmente es decir si se encuentra empleado o no\n\nEn las siguientes consultas hacemos uso de un grafico tipo pastel porque es la que se utiliza para mostrar la proporcion que le responde a cada categoria, ademas no existen mas de 5 categorias\n\nPara realizar la consulta seleccionamos las columnas anterioremente senaladas con la funcion select y colocaremos la condicion usando la funcion where para que solo se obtengan los datos que en la columna condicion_actividad sean iguales a deseempleo abierto , agrupamos estos datos segun la columna estado_civil con la funcion groupBy() y contamos cuantos datos hay segun la agrupacion  con la funcion count, seleccionamos las columna  resultantes y dividimos la columna count para la variable indgDes(indigenas deseempleados) la multiplicamos por 100 para obtener el porcentaje, seleccionamos las columnas resultantes y cambiamos el nombre de la segunda columna por porcentaje deseempleo\n"
    },
    {
      "cell_type": "markdown",
      "metadata": {},
      "source": "indigenas"
    },
    {
      "cell_type": "markdown",
      "metadata": {},
      "source": "meztizos"
    },
    {
      "cell_type": "code",
      "execution_count": 120,
      "metadata": {
        "autoscroll": "auto"
      },
      "outputs": [],
      "source": "z.show(indg.select($\"estado_civil\",$\"condicion_actividad\").where(column(\"condicion_actividad\")\u003d\u003d\u003d\"7 - Desempleo abierto\").groupBy(\"estado_civil\").count.select($\"estado_civil\",\n$\"count\"/indgDes *100).select($\"estado_civil\",$\"((count / 915) * 100)\".as(\"porcentaje deseempleo\")))"
    },
    {
      "cell_type": "code",
      "execution_count": 121,
      "metadata": {
        "autoscroll": "auto"
      },
      "outputs": [],
      "source": "z.show(mezt.select($\"estado_civil\",$\"condicion_actividad\").where(column(\"condicion_actividad\")\u003d\u003d\u003d\"7 - Desempleo abierto\").groupBy(\"estado_civil\").count.select($\"estado_civil\",\n$\"count\"/mezDes *100).select($\"estado_civil\",$\"((count / 18213) * 100)\".as(\"porcentaje deseempleo\")))"
    },
    {
      "cell_type": "markdown",
      "metadata": {},
      "source": "Los resultados son muy similares por lo que concluimos en que no hay gran diferencia "
    },
    {
      "cell_type": "markdown",
      "metadata": {},
      "source": "#### Evolucion de deseempleo indigena segun el genero\ncomo ha evolucionado el deseempleo en la poblacion indigena en este tiempo en el cual ha existido una crisis creciente?\nPara estas consultas nos centraremos en las siguientes columnas:\n* year: La columna describe el anio en el que la persona que realizo la encuesa \n* genero: La columna describe el sexo de la persona que realizo la encuesa \n* condicion_activad: La columna describe como esta su condicion laboral actualmente es decir si se encuentra empleado o no\n\nPara la elaboracion de estas consultas implementamos el concepto de tablas dinamicas(una tabla que agrupa datos procedentes de otra table de distinto tamano), debido a que en este caso deseamos tambien ordenar los datos preferimos usar el metodo CrossTab para mayor facilidad\nTambien al momento de realizar los graficos optamos por aplicar un grafico de lineas ya que es el utilizado para comparar valores de una misma variable y tambien es la usaul para observar la evolucion de una variable atraves del tiempo, que es lo que precisamente buscamos comparar la evolucion del deseempleo segun el gnero atraves de los anios \nOtro apartado importante es que al momento de realizar la consulta por defecto solo nos mostrara la evolucion de un valor por lo que debemos ir a la pestana de configuracion y agregar el valor faltante a la seccion de values \n\nPara realizar la consulta primero creamos a variable indg2 donde almacenaremos a las personas indigenas que tegan condicion de desempleo abierto usando la funcion where, usamos la columna condicion_actividad y seleccionamos que sean iguales a deseempleo abierto\nUsamos esta variable y la funcion stat.crosstab() para aplicar el concepto de tablas dinamicas aqui seleccionamos las columnas de  anio y genero, ya que queremos comparar la evolucin del genero durante tantos anios, finalmente lo ordenamos segun los anios "
    },
    {
      "cell_type": "markdown",
      "metadata": {},
      "source": "indigenas"
    },
    {
      "cell_type": "code",
      "execution_count": 125,
      "metadata": {
        "autoscroll": "auto"
      },
      "outputs": [],
      "source": "val indg2 \u003d indg.where(column(\"condicion_actividad\")\u003d\u003d\u003d\"7 - Desempleo abierto\")\nz.show(indg2.stat.crosstab(\"anio\", \"genero\").orderBy(\"anio_genero\"))"
    },
    {
      "cell_type": "markdown",
      "metadata": {},
      "source": "meztizos"
    },
    {
      "cell_type": "code",
      "execution_count": 127,
      "metadata": {
        "autoscroll": "auto"
      },
      "outputs": [],
      "source": "val indg2 \u003d mezt.where(column(\"condicion_actividad\")\u003d\u003d\u003d\"7 - Desempleo abierto\")\nz.show(indg2.stat.crosstab(\"anio\", \"genero\").orderBy(\"anio_genero\"))"
    },
    {
      "cell_type": "markdown",
      "metadata": {},
      "source": "#### Evolucion del nivel de instruccion indigena en los años \ncomo ha evolucionado el nivel de instruccion en el pueblo indigena a traves del tiempo?, como se explican estos numeros?\nPara estas consultas nos centraremos en las siguientes columnas:\n* year: La columna describe el anio en el que la persona que realizo la encuesa \n* nivel_de_instruccion: La columna describe el grado de estudios que tienen las personas encuestadas\n\nAqui aplicaremos el mismo concepto de tablas dinamicas pero usaremos otro metodo (.pivot) ya que en este caso solo deseamos relacionar dos columnas sin importar el orden de los datos\nPara la grafica usaremos un grafico de barras que son los mas utiles para comparar categorias y su frecuencia , que es lo que buscamos en esta consultar ademas tambien se comparara cada categoria segun los anios \n\nOtro apartado importante es que al momento de realizar la consulta por defecto solo nos mostrara la evolucion de un valor por lo que debemos ir a la pestana de configuracion y agregar el valor faltante a la seccion de values \n\nPara realizar la consulta  agrupamos los datos segun la columna nivel_de_instruccion, usamos la funcion .pivot para relacionar esta columna con la columna de anios aplicando de esta forma el concepto de tablas dinamicas, finalmente aplicamos la funcion .count para obtener el total "
    },
    {
      "cell_type": "markdown",
      "metadata": {},
      "source": "indigenas"
    },
    {
      "cell_type": "code",
      "execution_count": 130,
      "metadata": {
        "autoscroll": "auto"
      },
      "outputs": [],
      "source": "z.show(indg.groupBy(\"nivel_de_instruccion\").pivot(\"anio\").count)"
    },
    {
      "cell_type": "markdown",
      "metadata": {},
      "source": "meztizos"
    },
    {
      "cell_type": "code",
      "execution_count": 132,
      "metadata": {
        "autoscroll": "auto"
      },
      "outputs": [],
      "source": "z.show(mezt.groupBy(\"nivel_de_instruccion\").pivot(\"anio\").count)"
    },
    {
      "cell_type": "markdown",
      "metadata": {},
      "source": "vemos que el numero de personas con educacion en los diferentes niveles varia mucho en los indigenas mientras que en los meztizos el numero casi no varia esta diferencia la apreciamos sobre todo en la primeraria "
    },
    {
      "cell_type": "markdown",
      "metadata": {},
      "source": "## A considerar\n* Todas las funciones utilizadas para la realizacion del presente EDA se encuentran detalladas en la siguiente direccion: https://github.com/ispa16/ProyectoProgramacionAvanzada/wiki/Funciones-a-utilizar\n* Algunas graficas pueden  dar el error \"No data to show\", considere abrir la pestana \"settings\" y colocar la key y los values segun corresponda\n\n"
    }
  ]
}