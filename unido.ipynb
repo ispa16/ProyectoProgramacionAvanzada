{
  "metadata": {
    "name": "NotaPrueba_Students",
    "kernelspec": {
      "language": "scala",
      "name": "spark2-scala"
    },
    "language_info": {
      "codemirror_mode": "text/x-scala",
      "file_extension": ".scala",
      "mimetype": "text/x-scala",
      "name": "scala",
      "pygments_lexer": "scala"
    }
  },
  "nbformat": 4,
  "nbformat_minor": 2,
  "cells": [
    {
      "cell_type": "code",
      "execution_count": 0,
      "metadata": {
        "autoscroll": "auto"
      },
      "outputs": [],
      "source": "import org.apache.spark.sql.types._\nval myDataSchema \u003d StructType(\nArray(\nStructField(\"id_persona\", DecimalType(26, 0), true), \nStructField(\"anio\", IntegerType, true), \nStructField(\"mes\", IntegerType, true), \nStructField(\"provincia\", IntegerType, true), \nStructField(\"canton\", IntegerType, true), \nStructField(\"area\", StringType, true), \nStructField(\"genero\", StringType, true), \nStructField(\"edad\", IntegerType, true), \nStructField(\"estado_civil\", StringType, true), \nStructField(\"nivel_de_instruccion\", StringType, true), \nStructField(\"etnia\", StringType, true), \nStructField(\"ingreso_laboral\", IntegerType, true), \nStructField(\"condicion_actividad\", StringType, true), \nStructField(\"sectorizacion\", StringType, true), \nStructField(\"grupo_ocupacion\", StringType, true), \nStructField(\"rama_actividad\", StringType, true), \nStructField(\"factor_expansion\", DoubleType, true)\n));//le damos al archivo el esquema establecido anteriormente\nval data \u003d spark\n.read\n.schema(myDataSchema)\n.option(\"header\", \"true\")\n.option(\"delimiter\", \"\\t\")\n.csv(\"Datos_ENEMDU_PEA_v2.csv\")"
    },
    {
      "cell_type": "markdown",
      "metadata": {},
      "source": "#### Que porcentaje de indigenas fueron encuestados ?"
    },
    {
      "cell_type": "code",
      "execution_count": 2,
      "metadata": {
        "autoscroll": "auto"
      },
      "outputs": [],
      "source": "val indg \u003d data.where($\"etnia\" \u003d\u003d\u003d \"1 - Indígena\")\nprint(f\"${(indg.count * 100)/data.count.toDouble}%.2f%% De Indígenas encuestados\")"
    },
    {
      "cell_type": "markdown",
      "metadata": {},
      "source": "## ¿Cuál es la clasificacion de indigenas con respecto a sus condicion laboral (condicion_actividad)?\n"
    },
    {
      "cell_type": "code",
      "execution_count": 4,
      "metadata": {
        "autoscroll": "auto"
      },
      "outputs": [],
      "source": "//ojo\nz.show(f\"${(indg.where($\"condicion_actividad\" \u003d\u003d\u003d \"1 - Empleo Adecuado/Pleno\").count * 100)/indg.count.toDouble}%.2f%% Empleo Adecuado\\n${(indg.where($\"condicion_actividad\" \u003d\u003d\u003d \"2 - Subempleo por insuficiencia de tiempo de trabajo\").count * 100)/indg.count.toDouble}%.2f%% Subempleo por insuficiencia de trabajo\\n${(indg.where($\"condicion_actividad\" \u003d\u003d\u003d \"4 - Otro empleo no pleno\").count * 100)/indg.count.toDouble}%.2f%% Otro empleo no pleno\\n${(indg.where($\"condicion_actividad\" \u003d\u003d\u003d \"5 - Empleo no remunerado\").count * 100)/indg.count.toDouble}%.2f%% Empleo no remunerado\\n${(indg.where($\"condicion_actividad\" \u003d\u003d\u003d \"6 - Empleo no clasificado\").count * 100)/indg.count.toDouble}%.2f%% Empleo no clasificado\\n${(indg.where($\"condicion_actividad\" \u003d\u003d\u003d \"7 - Desempleo abierto\").count * 100)/indg.count.toDouble}%.2f%% Desempleo Abierto\\n${(indg.where($\"condicion_actividad\" \u003d\u003d\u003d \"8 - Desempleo oculto\").count * 100)/indg.count.toDouble}%.2f%% Desempleo Oculto\")\n"
    },
    {
      "cell_type": "markdown",
      "metadata": {},
      "source": "## ¿Cuál es la cantidad de Indígenas que estan con desempleo abierto(busqueda activamente de empleo durante el mes anterior a la encuesta sin exito)?\n"
    },
    {
      "cell_type": "code",
      "execution_count": 6,
      "metadata": {
        "autoscroll": "auto"
      },
      "outputs": [],
      "source": "indg.where($\"condicion_actividad\" \u003d\u003d\u003d \"7 - Desempleo abierto\").count"
    },
    {
      "cell_type": "markdown",
      "metadata": {},
      "source": "## ¿Cuál es el nivel de educación que tienen los Indígenas desempleados abiertamente?"
    },
    {
      "cell_type": "code",
      "execution_count": 8,
      "metadata": {
        "autoscroll": "auto"
      },
      "outputs": [],
      "source": "val indgEduc \u003d  indg.where($\"condicion_actividad\" \u003d\u003d\u003d \"7 - Desempleo abierto\") \nz.show(\tindgEduc.groupBy(\"nivel_de_instruccion\").count().as(\"cantidad\").sort(desc(\"count\")))"
    },
    {
      "cell_type": "markdown",
      "metadata": {},
      "source": "## ¿Puede una persona Indigena con desempleo abierto, tener un ingreso laboral diferente de 0? ¿No es esto contradictorio? Compruebelo."
    },
    {
      "cell_type": "code",
      "execution_count": 10,
      "metadata": {
        "autoscroll": "auto"
      },
      "outputs": [],
      "source": "indgEduc.where($\"ingreso_laboral\" \u003e 0)\nindgEduc.where($\"ingreso_laboral\" \u003e 0).count\n"
    },
    {
      "cell_type": "markdown",
      "metadata": {},
      "source": "### ¿Cómo es posible que una persona con un \"desempleo abierto\" tenga un ingreso laboral que no sea 0?\nSe puede considerar varios posibles errores:\n* Primero: La sentencia este mal escrita o con un error, lo cual es posible, pero se descarta al usar otra herramienta para comprobar \nsu veracidad (excel) en el cual demuestra usando filtros que existen encuestados indigenas, con desempleo oculto que tienen \nun ingreso laboral mayor a 0.\n\n* Segundo: El archivo de origen vino con defectos, otra opcion posible, pero tambien descartada cuando leemos los significados de cada\ncolumna.\n\n* Posible Respuesta: La pagina web desde donde se proveyeron los datos, ofrece información acerca de que es el desempleo oculto y que \nconsidera el mismo. Siendo asi el significado de esta variable \"Personas sin empleo, que no estuvieron empleados en la semana pasada y que buscaron trabajo e\nhicieron gestiones concretas para conseguir empleo o para establecer algún negocio en las cuatro semanas anteriores a la entrevista.\"\n\nSe puede considerar como verdadera esta sentencia ya que, podemos deducir que el ingreso laboral que decretaron estas personas en la encuesta\npertenece al ingreso laboral que recibian una semana antes de la encuesta, cuando aun estaban empleados.\n\n### ¿Cuál es el valor máximo y minimo que gana un indígena que tiene el nivel mas alto de estudios (Post-grado)?"
    },
    {
      "cell_type": "code",
      "execution_count": 12,
      "metadata": {
        "autoscroll": "auto"
      },
      "outputs": [],
      "source": "val indgEducPost \u003d (indg.where($\"nivel_de_instruccion\" \u003d\u003d\u003d \"10 - Post-grado\"))\nindgEducPost.select(\"ingreso_laboral\").summary(\"max\", \"min\").show()"
    },
    {
      "cell_type": "markdown",
      "metadata": {},
      "source": "## ¿Existe una diferencia de salario que un indigena(post-grado) recibe de ingreso laboral promedio, con respecto al valor de ingreso laboral promedio de un ecuatoriano meztizo(post-grado)?"
    },
    {
      "cell_type": "code",
      "execution_count": 14,
      "metadata": {
        "autoscroll": "auto"
      },
      "outputs": [],
      "source": "indgEducPost.select(\"ingreso_laboral\").summary().show()"
    },
    {
      "cell_type": "markdown",
      "metadata": {},
      "source": "#### ¿Existen valores nulos?\n"
    },
    {
      "cell_type": "code",
      "execution_count": 16,
      "metadata": {
        "autoscroll": "auto"
      },
      "outputs": [],
      "source": "indgEducPost.select(\"ingreso_laboral\").groupBy(\"ingreso_laboral\").count().sort(desc(\"count\")).show(5)"
    },
    {
      "cell_type": "markdown",
      "metadata": {},
      "source": "#### Limpieza de Nulos"
    },
    {
      "cell_type": "code",
      "execution_count": 18,
      "metadata": {
        "autoscroll": "auto"
      },
      "outputs": [],
      "source": "val postIndg \u003d indgEducPost.select(\"ingreso_laboral\").where($\"ingreso_laboral\".isNotNull)"
    },
    {
      "cell_type": "markdown",
      "metadata": {},
      "source": "#### Busqueda de acotas"
    },
    {
      "cell_type": "code",
      "execution_count": 20,
      "metadata": {
        "autoscroll": "auto"
      },
      "outputs": [],
      "source": "val cantValoresEnDifRangos \u003d  scala.collection.mutable.ListBuffer[Long]()\n\t\tval minValue \u003d 0.0\n\t\tval maxValue \u003d 5264\n\t\tval bins \u003d 5.0\n\t\tval range \u003d (maxValue - minValue)/bins\n\t\tvar minCounter \u003d minValue\n\t\tvar maxCounter \u003d range\n\t\twhile (minCounter \u003c maxValue){\n\t\t  val valoresEnUnRango \u003d postIndg.where($\"ingreso_laboral\".between(minCounter,maxCounter))\n\t\t  cantValoresEnDifRangos.+\u003d(valoresEnUnRango.count())\n\t\t  minCounter \u003d maxCounter\n\t\t  maxCounter \u003d maxCounter + range\n\t\t}"
    },
    {
      "cell_type": "markdown",
      "metadata": {},
      "source": "#### Resultados de rangos"
    },
    {
      "cell_type": "code",
      "execution_count": 22,
      "metadata": {
        "autoscroll": "auto"
      },
      "outputs": [],
      "source": "println(\"Valores en diferentes rangos: \")\ncantValoresEnDifRangos.foreach(println)\n\t\t/* 77 rango 0 - 1053\n\t\t49 rango 1053 - 2106\n\t\t23 rango 2106 - 3158\n\t\t8  rango 3158 - 4211 \n\t\t2  rango 4211 - 5264*/"
    },
    {
      "cell_type": "markdown",
      "metadata": {},
      "source": "#### Promedio"
    },
    {
      "cell_type": "code",
      "execution_count": 24,
      "metadata": {
        "autoscroll": "auto"
      },
      "outputs": [],
      "source": "val prom \u003d postIndg.select(mean(\"ingreso_laboral\")).first()(0).asInstanceOf[Double]"
    },
    {
      "cell_type": "markdown",
      "metadata": {},
      "source": "#### Desviacion estandar"
    },
    {
      "cell_type": "code",
      "execution_count": 26,
      "metadata": {
        "autoscroll": "auto"
      },
      "outputs": [],
      "source": "val desviacion \u003d postIndg.select(stddev(\"ingreso_laboral\")).first()(0).asInstanceOf[Double]"
    },
    {
      "cell_type": "markdown",
      "metadata": {},
      "source": "#### Limite Inferior"
    },
    {
      "cell_type": "markdown",
      "metadata": {},
      "source": "#### Limite Superior"
    },
    {
      "cell_type": "code",
      "execution_count": 29,
      "metadata": {
        "autoscroll": "auto"
      },
      "outputs": [],
      "source": "val limInf \u003d prom - 3 * desviacion"
    },
    {
      "cell_type": "code",
      "execution_count": 30,
      "metadata": {
        "autoscroll": "auto"
      },
      "outputs": [],
      "source": "val limSup \u003d prom + 3 * desviacion"
    },
    {
      "cell_type": "code",
      "execution_count": 31,
      "metadata": {
        "autoscroll": "auto"
      },
      "outputs": [],
      "source": "val indgPostSinAcotas \u003d postIndg.where($\"ingreso_laboral\" \u003e limInf \u0026\u0026 $\"ingreso_laboral\" \u003c limSup)"
    },
    {
      "cell_type": "markdown",
      "metadata": {},
      "source": "#### sin acotas"
    },
    {
      "cell_type": "markdown",
      "metadata": {},
      "source": "#### con acotas"
    },
    {
      "cell_type": "code",
      "execution_count": 34,
      "metadata": {
        "autoscroll": "auto"
      },
      "outputs": [],
      "source": "indgPostSinAcotas.select(\"ingreso_laboral\").summary().show\t"
    },
    {
      "cell_type": "code",
      "execution_count": 35,
      "metadata": {
        "autoscroll": "auto"
      },
      "outputs": [],
      "source": "indgEducPost.select(\"ingreso_laboral\").summary().show()"
    },
    {
      "cell_type": "code",
      "execution_count": 36,
      "metadata": {
        "autoscroll": "auto"
      },
      "outputs": [],
      "source": "val mezt \u003d data.where($\"etnia\" \u003d\u003d\u003d \"6 - Mestizo\")\nval meztEducPost \u003d mezt.where($\"nivel_de_instruccion\" \u003d\u003d\u003d \"10 - Post-grado\")"
    },
    {
      "cell_type": "markdown",
      "metadata": {},
      "source": "#### Summary de Meztizos con Postgrado (Con acotas)"
    },
    {
      "cell_type": "code",
      "execution_count": 38,
      "metadata": {
        "autoscroll": "auto"
      },
      "outputs": [],
      "source": "meztEducPost.select(\"ingreso_laboral\").summary().show()"
    },
    {
      "cell_type": "markdown",
      "metadata": {},
      "source": "#### ¿Existen valores nulos?"
    },
    {
      "cell_type": "code",
      "execution_count": 40,
      "metadata": {
        "autoscroll": "auto"
      },
      "outputs": [],
      "source": "meztEducPost.select(\"ingreso_laboral\").groupBy(\"ingreso_laboral\").count().sort(desc(\"count\")).show(5)"
    },
    {
      "cell_type": "markdown",
      "metadata": {},
      "source": "#### Limpieza de Nulos"
    },
    {
      "cell_type": "code",
      "execution_count": 42,
      "metadata": {
        "autoscroll": "auto"
      },
      "outputs": [],
      "source": "val postMezt \u003d meztEducPost.select(\"ingreso_laboral\").where($\"ingreso_laboral\".isNotNull)"
    },
    {
      "cell_type": "markdown",
      "metadata": {},
      "source": " \n#### Busqueda de acotas"
    },
    {
      "cell_type": "code",
      "execution_count": 44,
      "metadata": {
        "autoscroll": "auto"
      },
      "outputs": [],
      "source": "val cantValoresEnDifRangos \u003d  scala.collection.mutable.ListBuffer[Long]()\nval minValue \u003d 0.0\nval maxValue \u003d 30000\nval bins \u003d 5.0\nval range \u003d (maxValue - minValue)/bins\nvar minCounter \u003d minValue\nvar maxCounter \u003d range\nwhile (minCounter \u003c maxValue){\nval valoresEnUnRango \u003d postMezt.where($\"ingreso_laboral\".between(minCounter,maxCounter))\ncantValoresEnDifRangos.+\u003d(valoresEnUnRango.count())\nminCounter \u003d maxCounter\nmaxCounter \u003d maxCounter + range\n}"
    },
    {
      "cell_type": "markdown",
      "metadata": {},
      "source": "#### Resultados de rangos"
    },
    {
      "cell_type": "code",
      "execution_count": 46,
      "metadata": {
        "autoscroll": "auto"
      },
      "outputs": [],
      "source": "println(\"Valores en diferentes rangos: \")\ncantValoresEnDifRangos.foreach(println)"
    },
    {
      "cell_type": "markdown",
      "metadata": {},
      "source": "#### Promedio"
    },
    {
      "cell_type": "code",
      "execution_count": 48,
      "metadata": {
        "autoscroll": "auto"
      },
      "outputs": [],
      "source": "val prom \u003d postMezt.select(mean(\"ingreso_laboral\")).first()(0).asInstanceOf[Double]"
    },
    {
      "cell_type": "markdown",
      "metadata": {},
      "source": "#### Desviacion estandar"
    },
    {
      "cell_type": "code",
      "execution_count": 50,
      "metadata": {
        "autoscroll": "auto"
      },
      "outputs": [],
      "source": "val desviacion \u003d postMezt.select(stddev(\"ingreso_laboral\")).first()(0).asInstanceOf[Double]"
    },
    {
      "cell_type": "markdown",
      "metadata": {},
      "source": "#### Limite Inferior"
    },
    {
      "cell_type": "markdown",
      "metadata": {},
      "source": "#### Limite Superior"
    },
    {
      "cell_type": "code",
      "execution_count": 53,
      "metadata": {
        "autoscroll": "auto"
      },
      "outputs": [],
      "source": "val limInf \u003d prom - 3 * desviacion"
    },
    {
      "cell_type": "code",
      "execution_count": 54,
      "metadata": {
        "autoscroll": "auto"
      },
      "outputs": [],
      "source": "val limSup \u003d prom + 3 * desviacion"
    },
    {
      "cell_type": "markdown",
      "metadata": {},
      "source": "#### Meztizos con Postgrado (Sin acotas)"
    },
    {
      "cell_type": "code",
      "execution_count": 56,
      "metadata": {
        "autoscroll": "auto"
      },
      "outputs": [],
      "source": "val meztPostSinAcotas \u003d postMezt.where($\"ingreso_laboral\" \u003e limInf \u0026\u0026 $\"ingreso_laboral\" \u003c limSup)"
    },
    {
      "cell_type": "markdown",
      "metadata": {},
      "source": "Sin acotas"
    },
    {
      "cell_type": "markdown",
      "metadata": {},
      "source": "Con acotas"
    },
    {
      "cell_type": "code",
      "execution_count": 59,
      "metadata": {
        "autoscroll": "auto"
      },
      "outputs": [],
      "source": "meztPostSinAcotas.select(\"ingreso_laboral\").summary().show\t\t"
    },
    {
      "cell_type": "code",
      "execution_count": 60,
      "metadata": {
        "autoscroll": "auto"
      },
      "outputs": [],
      "source": "meztEducPost.select(\"ingreso_laboral\").summary().show()"
    },
    {
      "cell_type": "markdown",
      "metadata": {},
      "source": " \n## Boxplots"
    },
    {
      "cell_type": "markdown",
      "metadata": {},
      "source": "Indigenas"
    },
    {
      "cell_type": "markdown",
      "metadata": {},
      "source": "Mestizos"
    },
    {
      "cell_type": "code",
      "execution_count": 64,
      "metadata": {
        "autoscroll": "auto"
      },
      "outputs": [],
      "source": "val cuartiles \u003d postIndg.stat.approxQuantile(\"ingreso_laboral\", Array (0.25, 0.75), 0.0)\nval q1 \u003d cuartiles(0)\nval q3 \u003d cuartiles(1)\nval iQR \u003d q3 -q1\nval inferiorIQR \u003d q1 -1.5 * iQR\nval superiorIQR \u003d q3 + 1.5 * iQR\nval indgSinAcotasIQR \u003d postIndg.where($\"ingreso_laboral\" \u003e inferiorIQR \u0026\u0026 $\"ingreso_laboral\" \u003c superiorIQR)\nindgSinAcotasIQR.select(\"ingreso_laboral\").summary().show"
    },
    {
      "cell_type": "code",
      "execution_count": 65,
      "metadata": {
        "autoscroll": "auto"
      },
      "outputs": [],
      "source": "val cuartiles \u003d postMezt.stat.approxQuantile(\"ingreso_laboral\", Array (0.25, 0.75), 0.0)\nval q1 \u003d cuartiles(0)\nval q3 \u003d cuartiles(1)\nval iQR \u003d q3 -q1\nval inferiorIQR \u003d q1 -1.5 * iQR\nval superiorIQR \u003d q3 + 1.5 * iQR\nval meztSinAcotasIQR \u003d postMezt.where($\"ingreso_laboral\" \u003e inferiorIQR \u0026\u0026 $\"ingreso_laboral\" \u003c superiorIQR)\nmeztSinAcotasIQR.select(\"ingreso_laboral\").summary().show"
    },
    {
      "cell_type": "markdown",
      "metadata": {},
      "source": "Considerando los resultados de los 2 algoritmos, se puede deducir que en efecto, existe una diferencia entre lo que gana un indigena (post-grado) en promedio,\ncon lo que gana un meztizo de similares caracteristicas, pero realmente no es una diferencia significativa, es un valor encontrado en un rango entre 130 -170.\nVease:\n\nAlgoritmo 1 (salario promedio):\n\nindigena \u003d  1387.386075949367\t\tmeztizo \u003d 1553.2442199775533\n\ndiferencia \u003d | 1387.39 - 1553.24 | \u003d |- 165.85 |\ndiferencia \u003d 165.85\n\nAlgoritmo 2 (salario promedio):\n\nindigena \u003d  1291.5526315789473\t\tmeztizo \u003d 1425.7911637173327\n\ndiferencia \u003d | 1291.55 - 1425.8 | \u003d |- 134.25 |\ndiferencia \u003d 134.25*/"
    },
    {
      "cell_type": "markdown",
      "metadata": {},
      "source": "#### ¿Es posible que con el tiempo los niveles de empleo adecuado y desempleo en los indigenas hayan aumentado con respecto a los demas grupos poblacionales? ¿Es posible demostrar como ha variado su condicion laboral con el paso de los años?"
    },
    {
      "cell_type": "code",
      "execution_count": 68,
      "metadata": {
        "autoscroll": "auto"
      },
      "outputs": [],
      "source": "z.show(indg.stat.crosstab(\"condicion_actividad\", \"anio\").orderBy(\"condicion_actividad_anio\"))"
    },
    {
      "cell_type": "markdown",
      "metadata": {},
      "source": "¿Que hay con respecto a las personas que no son Indigenas? ¿Se puede observar una similaridad en cuanto a la estadistica?"
    },
    {
      "cell_type": "code",
      "execution_count": 70,
      "metadata": {
        "autoscroll": "auto"
      },
      "outputs": [],
      "source": "val noIndg \u003d data.where($\"etnia\" \u003d!\u003d \"1 - Indígena\")\nz.show(noIndg.stat.crosstab(\"condicion_actividad\", \"anio\").orderBy(\"condicion_actividad_anio\"))"
    },
    {
      "cell_type": "markdown",
      "metadata": {},
      "source": "Los datos demuestran que no ha habido algun tipo de discriminacion, todos los grupos poblacionales han demostrado que han tendido a la baja con respecto al empleo adecuado en el ecuador\t*/"
    },
    {
      "cell_type": "markdown",
      "metadata": {},
      "source": "#### Cual es el porcentaje de ingreso laboral que un indigena genera?\n"
    },
    {
      "cell_type": "code",
      "execution_count": 73,
      "metadata": {
        "autoscroll": "auto"
      },
      "outputs": [],
      "source": "print(f\"${(indg.count * 100)/data.count.toDouble}%.2f%% De Indígenas encuestados\")"
    },
    {
      "cell_type": "markdown",
      "metadata": {},
      "source": "#### De las personas indigenas ¿Es posible que hayan sido las mujeres las mas que menor valor de ingreso han obtenido? ¿Existe alguna diferencia significativa entre el porcentaje de ingresos laborales que generaron las mujeres con respecto a los hombres?"
    },
    {
      "cell_type": "code",
      "execution_count": 75,
      "metadata": {
        "autoscroll": "auto"
      },
      "outputs": [],
      "source": "\tz.show(indg.groupBy(\"anio\").pivot(\"genero\").agg( round((sum(\"ingreso_laboral\")*100)/13925210) ).orderBy(\"anio\"))"
    },
    {
      "cell_type": "markdown",
      "metadata": {},
      "source": "## Variables a comparar\nEn el Ecuador historicamente los indigenas han sido el grupo mas vulnerable desde la conquista de los espanoles,desde entonces este grupo etnico ha sido discriminado por los demas grupos, relegandolos a una posicion desfavorable con respecto a otros grupos etnicos, al otro lado de la balanza tenemos a los mestizos quienes en la actualidad son el grupo etnico comun en el pais y muchos lo consideran como el privilegiado \n\nActualmente existe la creencia de que estas diferencias ya quedaron en el pasado y que actualmente no existe gran diferencia entre estos grupos, por lo que buscaremos datos acerca del deseempleo y la evolucion de este en ambos grupos sociales para despues compararlos y llegar a una conclusion "
    },
    {
      "cell_type": "markdown",
      "metadata": {},
      "source": "#### Porcentaje de desempleo indigena en el area urbana y rural \nPara estas consultas nos centraremos en las siguientes columnas:\n* area: La columna describe el area donde se encuentra viviendo la persona (rural o urbana)\n* condicion_activada: La columna describe como estasu condicion laboral actualmente es decir si se encuentra empleado o no\n"
    },
    {
      "cell_type": "code",
      "execution_count": 78,
      "metadata": {
        "autoscroll": "auto"
      },
      "outputs": [],
      "source": "val indgDes \u003d indg.select(\"area\",\"condicion_actividad\").where(column(\"condicion_actividad\")\u003d\u003d\u003d\"7 - Desempleo abierto\").count\nval des \u003d (indg.select(\"area\",\"condicion_actividad\").where(column(\"condicion_actividad\")\u003d\u003d\u003d\"7 - Desempleo abierto\").groupBy(\"area\").count)\nz.show(des.select(des(\"area\"),(des(\"count\")/indgDes *100).as(\"porcentaje deseempleo\")))"
    },
    {
      "cell_type": "code",
      "execution_count": 79,
      "metadata": {
        "autoscroll": "auto"
      },
      "outputs": [],
      "source": "//mestizos\nval des \u003d (mezt.select(\"area\",\"condicion_actividad\").where(column(\"condicion_actividad\")\u003d\u003d\u003d\"7 - Desempleo abierto\").groupBy(\"area\").count)\nz.show(des.select(des(\"area\"),(des(\"count\")/622776 *100).as(\"porcentaje deseempleo\")))"
    },
    {
      "cell_type": "code",
      "execution_count": 80,
      "metadata": {
        "autoscroll": "auto"
      },
      "outputs": [],
      "source": "//se muestra la media de ingresos por cada grupo de ocupacion\nz.show(indg.select(\"grupo_ocupacion\",\"ingreso_laboral\").groupBy(\"grupo_ocupacion\").avg(\"ingreso_laboral\").select($\"grupo_ocupacion\",$\"avg(ingreso_laboral)\".as(\"media de ingresos\")))"
    },
    {
      "cell_type": "code",
      "execution_count": 81,
      "metadata": {
        "autoscroll": "auto"
      },
      "outputs": [],
      "source": "//meztizos\nz.show(mezt.select(\"grupo_ocupacion\",\"ingreso_laboral\").groupBy(\"grupo_ocupacion\").avg(\"ingreso_laboral\").select($\"grupo_ocupacion\",$\"avg(ingreso_laboral)\".as(\"media de ingresos\")))"
    },
    {
      "cell_type": "code",
      "execution_count": 82,
      "metadata": {
        "autoscroll": "auto"
      },
      "outputs": [],
      "source": "//se muestra la media de ingresos segun la zona  \nz.show(indg.select(\"area\",\"ingreso_laboral\").groupBy(\"area\").avg(\"ingreso_laboral\").select($\"area\",$\"avg(ingreso_laboral)\".as(\"media de ingresos\")))"
    },
    {
      "cell_type": "code",
      "execution_count": 83,
      "metadata": {
        "autoscroll": "auto"
      },
      "outputs": [],
      "source": "//meztizos\nz.show(mezt.select(\"area\",\"ingreso_laboral\").groupBy(\"area\").avg(\"ingreso_laboral\").select($\"area\",$\"avg(ingreso_laboral)\".as(\"media de ingresos\")))"
    },
    {
      "cell_type": "code",
      "execution_count": 84,
      "metadata": {
        "autoscroll": "auto"
      },
      "outputs": [],
      "source": "//se muestra la media de ingresos segun el nivel de instruccion \nz.show(indg.select(\"nivel_de_instruccion\",\"ingreso_laboral\").groupBy(\"nivel_de_instruccion\").avg(\"ingreso_laboral\").orderBy(\"nivel_de_instruccion\").select($\"nivel_de_instruccion\",$\"avg(ingreso_laboral)\".as(\"media de ingresos\")))"
    },
    {
      "cell_type": "code",
      "execution_count": 85,
      "metadata": {
        "autoscroll": "auto"
      },
      "outputs": [],
      "source": "//meztizos\nz.show(mezt.select(\"nivel_de_instruccion\",\"ingreso_laboral\").groupBy(\"nivel_de_instruccion\").avg(\"ingreso_laboral\").orderBy(\"nivel_de_instruccion\").select($\"nivel_de_instruccion\",$\"avg(ingreso_laboral)\".as(\"media de ingresos\")))"
    },
    {
      "cell_type": "code",
      "execution_count": 86,
      "metadata": {
        "autoscroll": "auto"
      },
      "outputs": [],
      "source": "//se muestra el deseempleo abierto segun el nivel de educacion\nz.show(indg.select(\"nivel_de_instruccion\",\"condicion_actividad\").where(column(\"condicion_actividad\")\u003d\u003d\u003d\"7 - Desempleo abierto\").groupBy(\"nivel_de_instruccion\").count.orderBy(col(\"nivel_de_instruccion\").desc))\n//indg.stat.crosstab(\"nivel_de_instruccion\", \"condicion_actividad\").orderBy(\"nivel_de_instruccion_condicion_actividad\").show"
    },
    {
      "cell_type": "code",
      "execution_count": 87,
      "metadata": {
        "autoscroll": "auto"
      },
      "outputs": [],
      "source": "//meztizos\nz.show(mezt.select(\"nivel_de_instruccion\",\"condicion_actividad\").where(column(\"condicion_actividad\")\u003d\u003d\u003d\"7 - Desempleo abierto\").groupBy(\"nivel_de_instruccion\").count.orderBy(col(\"nivel_de_instruccion\").desc))"
    },
    {
      "cell_type": "code",
      "execution_count": 88,
      "metadata": {
        "autoscroll": "auto"
      },
      "outputs": [],
      "source": "//se muestra el deseempleo abierto segun el estado civil\n\nz.show(indg.select($\"estado_civil\",$\"condicion_actividad\").where(column(\"condicion_actividad\")\u003d\u003d\u003d\"7 - Desempleo abierto\").groupBy(\"estado_civil\").count.select($\"estado_civil\",\n$\"count\"/622776 *100).select($\"estado_civil\",$\"((count / 622776) * 100)\".as(\"porcentaje deseempleo\")))"
    },
    {
      "cell_type": "code",
      "execution_count": 89,
      "metadata": {
        "autoscroll": "auto"
      },
      "outputs": [],
      "source": "//meztizos\nz.show(mezt.select($\"estado_civil\",$\"condicion_actividad\").where(column(\"condicion_actividad\")\u003d\u003d\u003d\"7 - Desempleo abierto\").groupBy(\"estado_civil\").count.select($\"estado_civil\",\n$\"count\"/622776 *100).select($\"estado_civil\",$\"((count / 622776) * 100)\".as(\"porcentaje deseempleo\")))"
    },
    {
      "cell_type": "code",
      "execution_count": 90,
      "metadata": {
        "autoscroll": "auto"
      },
      "outputs": [],
      "source": "//como ha evolucionado el deseempleo en la poblacion indigena en este tiempo ?\nval indg2 \u003d indg.where(column(\"condicion_actividad\")\u003d\u003d\u003d\"7 - Desempleo abierto\")\nz.show(indg2.stat.crosstab(\"anio\", \"genero\").orderBy(\"anio_genero\"))"
    },
    {
      "cell_type": "code",
      "execution_count": 91,
      "metadata": {
        "autoscroll": "auto"
      },
      "outputs": [],
      "source": "//meztizo\nval indg2 \u003d mezt.where(column(\"condicion_actividad\")\u003d\u003d\u003d\"7 - Desempleo abierto\")\nz.show(indg2.stat.crosstab(\"anio\", \"genero\").orderBy(\"anio_genero\"))"
    },
    {
      "cell_type": "code",
      "execution_count": 92,
      "metadata": {
        "autoscroll": "auto"
      },
      "outputs": [],
      "source": "//como ha evolucionado el nivel de instruccion en el pueblo indigena a traves del tiempo \n//como se explican estos numeros\nz.show(indg.groupBy(\"nivel_de_instruccion\").pivot(\"anio\").count)"
    },
    {
      "cell_type": "code",
      "execution_count": 93,
      "metadata": {
        "autoscroll": "auto"
      },
      "outputs": [],
      "source": "//meztizo\nz.show(mezt.groupBy(\"nivel_de_instruccion\").pivot(\"anio\").count)"
    }
  ]
}
