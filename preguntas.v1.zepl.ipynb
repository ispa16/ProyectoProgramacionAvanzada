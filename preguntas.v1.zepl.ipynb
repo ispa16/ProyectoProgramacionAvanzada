﻿{
  "metadata": {
    "name": "Note2",
    "kernelspec": {
      "language": "scala",
      "name": "spark2-scala"
    },
    "language_info": {
      "codemirror_mode": "text/x-scala",
      "file_extension": ".scala",
      "mimetype": "text/x-scala",
      "name": "scala",
      "pygments_lexer": "scala"
    }
  },
  "nbformat": 4,
  "nbformat_minor": 2,
  "cells": [
    {
      "cell_type": "code",
      "execution_count": 0,
      "metadata": {
        "autoscroll": "auto"
      },
      "outputs": [],
      "source": "import org.apache.spark.sql.types._\nval myDataSchema \u003d StructType(\n    Array(\n        StructField(\"id_persona\", DecimalType(26, 0), true), \n        StructField(\"anio\", IntegerType, true), \n        StructField(\"mes\", IntegerType, true), \n        StructField(\"provincia\", IntegerType, true), \n        StructField(\"canton\", IntegerType, true), \n        StructField(\"area\", StringType, true), \n        StructField(\"genero\", StringType, true), \n        StructField(\"edad\", IntegerType, true), \n        StructField(\"estado_civil\", StringType, true), \n        StructField(\"nivel_de_instruccion\", StringType, true), \n        StructField(\"etnia\", StringType, true), \n        StructField(\"ingreso_laboral\", IntegerType, true), \n        StructField(\"condicion_actividad\", StringType, true), \n        StructField(\"sectorizacion\", StringType, true), \n        StructField(\"grupo_ocupacion\", StringType, true), \n        StructField(\"rama_actividad\", StringType, true), \n        StructField(\"factor_expansion\", DoubleType, true)\n    ));\n    "
    },
    {
      "cell_type": "code",
      "execution_count": 1,
      "metadata": {
        "autoscroll": "auto"
      },
      "outputs": [],
      "source": "val data \u003d spark\n  .read\n  .schema(myDataSchema)\n//  .option(\"inferSchema\", true)\n  .option(\"header\", \"true\")\n  .option(\"delimiter\", \"\\t\")\n  .csv(\"Datos_ENEMDU_PEA_v2.csv\");"
    },
    {
      "cell_type": "code",
      "execution_count": 2,
      "metadata": {
        "autoscroll": "auto"
      },
      "outputs": [],
      "source": "//este no xd\nval data2 \u003d (data.select(\"id_persona\",\"grupo_ocupacion\").groupBy(\"grupo_ocupacion\").count.select(sum(\"count\"))).show"
    },
    {
      "cell_type": "code",
      "execution_count": 3,
      "metadata": {
        "autoscroll": "auto"
      },
      "outputs": [],
      "source": "//numero de personas economicamente activas segun el area\n(data.select(\"area\",\"ingreso_laboral\").groupBy(\"area\").count).show"
    },
    {
      "cell_type": "code",
      "execution_count": 4,
      "metadata": {
        "autoscroll": "auto"
      },
      "outputs": [],
      "source": "//numero de deseempleados en el area urbana y rural\n(data.select(\"area\",\"condicion_actividad\").where(column(\"condicion_actividad\")\u003d\u003d\u003d\"7 - Desempleo abierto\").groupBy(\"area\").count).show\n"
    },
    {
      "cell_type": "code",
      "execution_count": 5,
      "metadata": {
        "autoscroll": "auto"
      },
      "outputs": [],
      "source": "//porcentaje de deseempleados en el area urbana y rural ***\nval des \u003d (data.select(\"area\",\"condicion_actividad\").where(column(\"condicion_actividad\")\u003d\u003d\u003d\"7 - Desempleo abierto\").groupBy(\"area\").count)\ndes.select(des(\"area\"),des(\"count\")/622776 *100).show\n\n"
    },
    {
      "cell_type": "code",
      "execution_count": 6,
      "metadata": {
        "autoscroll": "auto"
      },
      "outputs": [],
      "source": "\ndata.select(\"area\",\"ingreso_laboral\").where(column(\"area\")\u003d\u003d\u003d\"1 - Urbana\").where($\"ingreso_laboral\".isNotNull).groupBy(\"area\").avg(\"ingreso_laboral\").show"
    },
    {
      "cell_type": "code",
      "execution_count": 7,
      "metadata": {
        "autoscroll": "auto"
      },
      "outputs": [],
      "source": "\ndata.select(\"area\",\"ingreso_laboral\").where(column(\"area\")\u003d\u003d\u003d\"2 - Rural\").where($\"ingreso_laboral\".isNotNull).groupBy(\"area\").avg(\"ingreso_laboral\").show"
    },
    {
      "cell_type": "code",
      "execution_count": 8,
      "metadata": {
        "autoscroll": "auto"
      },
      "outputs": [],
      "source": "//***\ndata.select(\"grupo_ocupacion\",\"ingreso_laboral\").groupBy(\"grupo_ocupacion\").avg(\"ingreso_laboral\").show"
    },
    {
      "cell_type": "code",
      "execution_count": 9,
      "metadata": {
        "autoscroll": "auto"
      },
      "outputs": [],
      "source": "//****\ndata.select(\"area\",\"ingreso_laboral\").groupBy(\"area\").avg(\"ingreso_laboral\").show"
    },
    {
      "cell_type": "code",
      "execution_count": 10,
      "metadata": {
        "autoscroll": "auto"
      },
      "outputs": [],
      "source": "//*****\ndata.select(\"nivel_de_instruccion\",\"ingreso_laboral\").groupBy(\"nivel_de_instruccion\").avg(\"ingreso_laboral\").show"
    },
    {
      "cell_type": "code",
      "execution_count": 11,
      "metadata": {
        "autoscroll": "auto"
      },
      "outputs": [],
      "source": "//*****\ndata.select(\"nivel_de_instruccion\",\"condicion_actividad\").where(column(\"condicion_actividad\")\u003d\u003d\u003d\"7 - Desempleo abierto\").groupBy(\"nivel_de_instruccion\").count.sort(col(\"nivel_de_instruccion\").desc).show"
    },
    {
      "cell_type": "code",
      "execution_count": 12,
      "metadata": {
        "autoscroll": "auto"
      },
      "outputs": [],
      "source": "//porcentaje de desempleo segun estado civil*****\nval deseempeloEstadoCivil \u003d data.select(\"estado_civil\",\"nivel_de_instruccion\").groupBy(\"estado_civil\").count\ndata.select($\"estado_civil\",$\"condicion_actividad\").where(column(\"condicion_actividad\")\u003d\u003d\u003d\"7 - Desempleo abierto\").groupBy(\"estado_civil\").count.select($\"estado_civil\",\n$\"count\"/622776 *100).show"
    },
    {
      "cell_type": "code",
      "execution_count": 13,
      "metadata": {
        "autoscroll": "auto"
      },
      "outputs": [],
      "source": "data.select(\"estado_civil\").groupBy(\"estado_civil\").count.show"
    },
    {
      "cell_type": "code",
      "execution_count": 14,
      "metadata": {
        "autoscroll": "auto"
      },
      "outputs": [],
      "source": "val nivelInstruccionEstado \u003d data.select(\"estado_civil\",\"nivel_de_instruccion\").groupBy(\"estado_civil\")\n"
    }
  ]
}
