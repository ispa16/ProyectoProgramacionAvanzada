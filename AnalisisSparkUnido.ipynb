﻿{
  "metadata": {
    "name": "NotaPrueba",
    "kernelspec": {
      "language": "scala",
      "name": "spark2-scala"
    },
    "language_info": {
      "codemirror_mode": "text/x-scala",
      "file_extension": ".scala",
      "mimetype": "text/x-scala",
      "name": "scala",
      "pygments_lexer": "scala"
    }
  },
  "nbformat": 4,
  "nbformat_minor": 2,
  "cells": [
    {
      "cell_type": "code",
      "execution_count": 0,
      "metadata": {
        "autoscroll": "auto"
      },
      "outputs": [],
      "source": "//esquema para trabajar con el archivo csv\n\nimport org.apache.spark.sql.types._\nval myDataSchema \u003d StructType(\n    Array(\n        StructField(\"id_persona\", DecimalType(26, 0), true), \n        StructField(\"anio\", IntegerType, true), \n        StructField(\"mes\", IntegerType, true), \n        StructField(\"provincia\", IntegerType, true), \n        StructField(\"canton\", IntegerType, true), \n        StructField(\"area\", StringType, true), \n        StructField(\"genero\", StringType, true), \n        StructField(\"edad\", IntegerType, true), \n        StructField(\"estado_civil\", StringType, true), \n        StructField(\"nivel_de_instruccion\", StringType, true), \n        StructField(\"etnia\", StringType, true), \n        StructField(\"ingreso_laboral\", IntegerType, true), \n        StructField(\"condicion_actividad\", StringType, true), \n        StructField(\"sectorizacion\", StringType, true), \n        StructField(\"grupo_ocupacion\", StringType, true), \n        StructField(\"rama_actividad\", StringType, true), \n        StructField(\"factor_expansion\", DoubleType, true)\n    ));"
    },
    {
      "cell_type": "code",
      "execution_count": 1,
      "metadata": {
        "autoscroll": "auto"
      },
      "outputs": [],
      "source": "//le damos al archivo el esquema establecido anteriormente\nval data \u003d spark\n  .read\n  .schema(myDataSchema)\n//  .option(\"inferSchema\", true)\n  .option(\"header\", \"true\")\n  .option(\"delimiter\", \"\\t\")\n  .csv(\"Datos_ENEMDU_PEA_v2.csv\")"
    },
    {
      "cell_type": "code",
      "execution_count": 2,
      "metadata": {
        "autoscroll": "auto"
      },
      "outputs": [],
      "source": "//¿Cuál es el porcentaje de indigenas (personas de población nativa u originaria del pais) con respecto al porcentaje total de personas \n//a las que se les tomo la encuesta?\n\nval indg \u003d data.where($\"etnia\" \u003d\u003d\u003d \"1 - Indígena\");\n\n\tprint(f\"${(indg.count * 100)/data.count.toDouble}%.2f%% De Indígenas encuestados\")"
    },
    {
      "cell_type": "code",
      "execution_count": 3,
      "metadata": {
        "autoscroll": "auto"
      },
      "outputs": [],
      "source": "\n//¿Cuál es la clasificacion de indigenas con respecto a sus condicion laboral (condicion_actividad)?\nprint(f\"${(indg.where($\"condicion_actividad\" \u003d\u003d\u003d \"1 - Empleo Adecuado/Pleno\").count * 100)/indg.count.toDouble}%.2f%% Empleo Adecuado\\n${(indg.where($\"condicion_actividad\" \u003d\u003d\u003d \"2 - Subempleo por insuficiencia de tiempo de trabajo\").count * 100)/indg.count.toDouble}%.2f%% Subempleo por insuficiencia de trabajo\\n${(indg.where($\"condicion_actividad\" \u003d\u003d\u003d \"4 - Otro empleo no pleno\").count * 100)/indg.count.toDouble}%.2f%% Otro empleo no pleno\\n${(indg.where($\"condicion_actividad\" \u003d\u003d\u003d \"5 - Empleo no remunerado\").count * 100)/indg.count.toDouble}%.2f%% Empleo no remunerado\\n${(indg.where($\"condicion_actividad\" \u003d\u003d\u003d \"6 - Empleo no clasificado\").count * 100)/indg.count.toDouble}%.2f%% Empleo no clasificado\\n${(indg.where($\"condicion_actividad\" \u003d\u003d\u003d \"7 - Desempleo abierto\").count * 100)/indg.count.toDouble}%.2f%% Desempleo Abierto\\n${(indg.where($\"condicion_actividad\" \u003d\u003d\u003d \"8 - Desempleo oculto\").count * 100)/indg.count.toDouble}%.2f%% Desempleo Oculto\")\n"
    },
    {
      "cell_type": "code",
      "execution_count": 4,
      "metadata": {
        "autoscroll": "auto"
      },
      "outputs": [],
      "source": "//¿Cuál es la cantidad de Indígenas que estan con desempleo abierto(busqueda activamente de empleo durante el mes anterior a la encuesta sin exito)?\n\n\tindg.where($\"condicion_actividad\" \u003d\u003d\u003d \"7 - Desempleo abierto\").count\n"
    },
    {
      "cell_type": "code",
      "execution_count": 5,
      "metadata": {
        "autoscroll": "auto"
      },
      "outputs": [],
      "source": "//¿Cuál es el nivel de educación que tienen los Indígenas desempleados abiertamente?\n\n\tval indgEduc \u003d  indg.where($\"condicion_actividad\" \u003d\u003d\u003d \"7 - Desempleo abierto\") \n\n\tindgEduc.groupBy(\"nivel_de_instruccion\").count().as(\"cantidad\").sort(desc(\"count\")).show(false)"
    },
    {
      "cell_type": "code",
      "execution_count": 6,
      "metadata": {
        "autoscroll": "auto"
      },
      "outputs": [],
      "source": "//¿Puede una persona Indigena con desempleo abierto, tener un ingreso laboral diferente de 0? ¿No es esto contradictorio? Compruebelo.\nindgEduc.where($\"ingreso_laboral\" \u003e 0)\nindgEduc.where($\"ingreso_laboral\" \u003e 0).count\n"
    },
    {
      "cell_type": "code",
      "execution_count": 7,
      "metadata": {
        "autoscroll": "auto"
      },
      "outputs": [],
      "source": "/*\n¿Cómo es posible que una persona con un \"desempleo abierto\" tenga un ingreso laboral que no sea 0?\n\n\tSe puede considerar varios posibles errores:\n\t\n\tPrimero: La sentencia este mal escrita o con un error, lo cual es posible, pero se descarta al usar otra herramienta para comprobar \n\tsu veracidad (excel) en el cual demuestra usando filtros que existen encuestados indigenas, con desempleo oculto que tienen \n\tun ingreso laboral mayor a 0.\n\n\tSegundo: El archivo de origen vino con defectos, otra opcion posible, pero tambien descartada cuando leemos los significados de cada\n\tcolumna.\n\n\tPosible Respuesta: La pagina web desde donde se proveyeron los datos, ofrece información acerca de que es el desempleo oculto y que \n\tconsidera el mismo. Siendo asi el significado de esta variable \"Personas sin empleo, que no estuvieron empleados en la semana pasada y que buscaron trabajo e\n\thicieron gestiones concretas para conseguir empleo o para establecer algún negocio en las cuatro semanas anteriores a la entrevista.\"\n\t\n\tSe puede considerar como verdadera esta sentencia ya que, podemos deducir que el ingreso laboral que decretaron estas personas en la encuesta\n\tpertenece al ingreso laboral que recibian una semana antes de la encuesta, cuando aun estaban empleados."
    },
    {
      "cell_type": "code",
      "execution_count": 8,
      "metadata": {
        "autoscroll": "auto"
      },
      "outputs": [],
      "source": "//¿Cuál es el valor máximo y minimo que gana un indígena que tiene el nivel mas alto de estudios (Post-grado)?\n\n\tval indgEducPost \u003d (indg.where($\"nivel_de_instruccion\" \u003d\u003d\u003d \"10 - Post-grado\"))\n\n\tindgEducPost.select(\"ingreso_laboral\").summary(\"max\", \"min\").show()"
    },
    {
      "cell_type": "code",
      "execution_count": 9,
      "metadata": {
        "autoscroll": "auto"
      },
      "outputs": [],
      "source": "//¿Existe una diferencia de salario que un indigena(post-grado) recibe de ingreso laboral máximo, con respecto al valor de ingreso laboral máximo de un ecuatoriano meztizo(post-grado)?\n\t\n\tindgEducPost.select(max(\"ingreso_laboral\").as(\"Indigena(Post-grago), Máximo ingreso Laboral\")).show()"
    },
    {
      "cell_type": "code",
      "execution_count": 10,
      "metadata": {
        "autoscroll": "auto"
      },
      "outputs": [],
      "source": "//¿Qué porcentaje del salario maximo de un meztizo (Post-grado), recibe un indigina con las mismas características?\n\n\tprint(f\"Recibe el ${(5264 * 100)/30000.toDouble}%.2f%% del salario maximo de un meztizo con similares caracteristicas\\n\")"
    },
    {
      "cell_type": "code",
      "execution_count": 11,
      "metadata": {
        "autoscroll": "auto"
      },
      "outputs": [],
      "source": "//se muestra el porcentaje de personas en condicion de actividad desempleo abrierto segun el area urbana o rural \nval des \u003d (data.select(\"area\",\"condicion_actividad\").where(column(\"condicion_actividad\")\u003d\u003d\u003d\"7 - Desempleo abierto\").groupBy(\"area\").count)\ndes.select(des(\"area\"),des(\"count\")/622776 *100).show"
    },
    {
      "cell_type": "code",
      "execution_count": 12,
      "metadata": {
        "autoscroll": "auto"
      },
      "outputs": [],
      "source": "//se muestra la media de ingresos por cada grupo de ocupacion\ndata.select(\"grupo_ocupacion\",\"ingreso_laboral\").groupBy(\"grupo_ocupacion\").avg(\"ingreso_laboral\").show"
    },
    {
      "cell_type": "code",
      "execution_count": 13,
      "metadata": {
        "autoscroll": "auto"
      },
      "outputs": [],
      "source": "//se muestra la media de ingresos segun la zona  \ndata.select(\"area\",\"ingreso_laboral\").groupBy(\"area\").avg(\"ingreso_laboral\").show"
    },
    {
      "cell_type": "code",
      "execution_count": 14,
      "metadata": {
        "autoscroll": "auto"
      },
      "outputs": [],
      "source": "//se muestra la media de ingresos segun el nivel de instruccion \ndata.select(\"nivel_de_instruccion\",\"ingreso_laboral\").groupBy(\"nivel_de_instruccion\").avg(\"ingreso_laboral\").show"
    },
    {
      "cell_type": "code",
      "execution_count": 15,
      "metadata": {
        "autoscroll": "auto"
      },
      "outputs": [],
      "source": "//se muestra el deseempleo abierto segun el nivel de educacion\ndata.select(\"nivel_de_instruccion\",\"condicion_actividad\").where(column(\"condicion_actividad\")\u003d\u003d\u003d\"7 - Desempleo abierto\").groupBy(\"nivel_de_instruccion\").count.sort(col(\"nivel_de_instruccion\").desc).show"
    },
    {
      "cell_type": "code",
      "execution_count": 16,
      "metadata": {
        "autoscroll": "auto"
      },
      "outputs": [],
      "source": "//se muestra el deseempleo abierto segun el estado civil\n\ndata.select($\"estado_civil\",$\"condicion_actividad\").where(column(\"condicion_actividad\")\u003d\u003d\u003d\"7 - Desempleo abierto\").groupBy(\"estado_civil\").count.select($\"estado_civil\",\n$\"count\"/622776 *100).show"
    }
  ]
}