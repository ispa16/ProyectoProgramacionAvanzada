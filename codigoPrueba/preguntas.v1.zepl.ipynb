﻿{
  "metadata": {
    "name": "NotaPrueba",
    "kernelspec": {
      "language": "scala",
      "name": "spark2-scala"
    },
    "language_info": {
      "codemirror_mode": "text/x-scala",
      "file_extension": ".scala",
      "mimetype": "text/x-scala",
      "name": "scala",
      "pygments_lexer": "scala"
    }
  },
  "nbformat": 4,
  "nbformat_minor": 2,
  "cells": [
    {
      "cell_type": "code",
      "execution_count": 0,
      "metadata": {
        "autoscroll": "auto"
      },
      "outputs": [],
      "source": "//esquema para trabajar con el archivo csv\n\nimport org.apache.spark.sql.types._\nval myDataSchema \u003d StructType(\n    Array(\n        StructField(\"id_persona\", DecimalType(26, 0), true), \n        StructField(\"anio\", IntegerType, true), \n        StructField(\"mes\", IntegerType, true), \n        StructField(\"provincia\", IntegerType, true), \n        StructField(\"canton\", IntegerType, true), \n        StructField(\"area\", StringType, true), \n        StructField(\"genero\", StringType, true), \n        StructField(\"edad\", IntegerType, true), \n        StructField(\"estado_civil\", StringType, true), \n        StructField(\"nivel_de_instruccion\", StringType, true), \n        StructField(\"etnia\", StringType, true), \n        StructField(\"ingreso_laboral\", IntegerType, true), \n        StructField(\"condicion_actividad\", StringType, true), \n        StructField(\"sectorizacion\", StringType, true), \n        StructField(\"grupo_ocupacion\", StringType, true), \n        StructField(\"rama_actividad\", StringType, true), \n        StructField(\"factor_expansion\", DoubleType, true)\n    ));"
    },
    {
      "cell_type": "code",
      "execution_count": 1,
      "metadata": {
        "autoscroll": "auto"
      },
      "outputs": [],
      "source": "//le damos al archivo el esquema establecido anteriormente\nval data \u003d spark\n  .read\n  .schema(myDataSchema)\n//  .option(\"inferSchema\", true)\n  .option(\"header\", \"true\")\n  .option(\"delimiter\", \"\\t\")\n  .csv(\"Datos_ENEMDU_PEA_v2.csv\")"
    },
    {
      "cell_type": "code",
      "execution_count": 2,
      "metadata": {
        "autoscroll": "auto"
      },
      "outputs": [],
      "source": "//se muestra el porcentaje de personas en condicion de actividad desempleo abrierto segun el area urbana o rural \nval des \u003d (data.select(\"area\",\"condicion_actividad\").where(column(\"condicion_actividad\")\u003d\u003d\u003d\"7 - Desempleo abierto\").groupBy(\"area\").count)\ndes.select(des(\"area\"),des(\"count\")/622776 *100).show"
    },
    {
      "cell_type": "code",
      "execution_count": 3,
      "metadata": {
        "autoscroll": "auto"
      },
      "outputs": [],
      "source": "//se muestra la media de ingresos por cada grupo de ocupacion\ndata.select(\"grupo_ocupacion\",\"ingreso_laboral\").groupBy(\"grupo_ocupacion\").avg(\"ingreso_laboral\").show"
    },
    {
      "cell_type": "code",
      "execution_count": 4,
      "metadata": {
        "autoscroll": "auto"
      },
      "outputs": [],
      "source": "//se muestra la media de ingresos segun la zona  \ndata.select(\"area\",\"ingreso_laboral\").groupBy(\"area\").avg(\"ingreso_laboral\").show"
    },
    {
      "cell_type": "code",
      "execution_count": 5,
      "metadata": {
        "autoscroll": "auto"
      },
      "outputs": [],
      "source": "//se muestra la media de ingresos segun el nivel de instruccion \ndata.select(\"nivel_de_instruccion\",\"ingreso_laboral\").groupBy(\"nivel_de_instruccion\").avg(\"ingreso_laboral\").show"
    },
    {
      "cell_type": "code",
      "execution_count": 6,
      "metadata": {
        "autoscroll": "auto"
      },
      "outputs": [],
      "source": "//se muestra el deseempleo abierto segun el nivel de educacion\ndata.select(\"nivel_de_instruccion\",\"condicion_actividad\").where(column(\"condicion_actividad\")\u003d\u003d\u003d\"7 - Desempleo abierto\").groupBy(\"nivel_de_instruccion\").count.sort(col(\"nivel_de_instruccion\").desc).show"
    },
    {
      "cell_type": "code",
      "execution_count": 7,
      "metadata": {
        "autoscroll": "auto"
      },
      "outputs": [],
      "source": "//se muestra el deseempleo abierto segun el estado civil\n\ndata.select($\"estado_civil\",$\"condicion_actividad\").where(column(\"condicion_actividad\")\u003d\u003d\u003d\"7 - Desempleo abierto\").groupBy(\"estado_civil\").count.select($\"estado_civil\",\n$\"count\"/622776 *100).show"
    }
  ]
}
