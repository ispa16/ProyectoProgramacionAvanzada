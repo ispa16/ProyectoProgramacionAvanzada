﻿{
  "metadata": {
    "name": "NotaPrueba",
    "kernelspec": {
      "language": "scala",
      "name": "spark2-scala"
    },
    "language_info": {
      "codemirror_mode": "text/x-scala",
      "file_extension": ".scala",
      "mimetype": "text/x-scala",
      "name": "scala",
      "pygments_lexer": "scala"
    }
  },
  "nbformat": 4,
  "nbformat_minor": 2,
  "cells": [
    {
      "cell_type": "code",
      "execution_count": 0,
      "metadata": {
        "autoscroll": "auto"
      },
      "outputs": [],
      "source": "//esquema para trabajar con el archivo csv\n\nimport org.apache.spark.sql.types._\nval myDataSchema \u003d StructType(\n    Array(\n        StructField(\"id_persona\", DecimalType(26, 0), true), \n        StructField(\"anio\", IntegerType, true), \n        StructField(\"mes\", IntegerType, true), \n        StructField(\"provincia\", IntegerType, true), \n        StructField(\"canton\", IntegerType, true), \n        StructField(\"area\", StringType, true), \n        StructField(\"genero\", StringType, true), \n        StructField(\"edad\", IntegerType, true), \n        StructField(\"estado_civil\", StringType, true), \n        StructField(\"nivel_de_instruccion\", StringType, true), \n        StructField(\"etnia\", StringType, true), \n        StructField(\"ingreso_laboral\", IntegerType, true), \n        StructField(\"condicion_actividad\", StringType, true), \n        StructField(\"sectorizacion\", StringType, true), \n        StructField(\"grupo_ocupacion\", StringType, true), \n        StructField(\"rama_actividad\", StringType, true), \n        StructField(\"factor_expansion\", DoubleType, true)\n    ));"
    },
    {
      "cell_type": "code",
      "execution_count": 1,
      "metadata": {
        "autoscroll": "auto"
      },
      "outputs": [],
      "source": "//le damos al archivo el esquema establecido anteriormente\nval data \u003d spark\n  .read\n  .schema(myDataSchema)\n//  .option(\"inferSchema\", true)\n  .option(\"header\", \"true\")\n  .option(\"delimiter\", \"\\t\")\n  .csv(\"Datos_ENEMDU_PEA_v2.csv\")"
    },
    {
      "cell_type": "code",
      "execution_count": 2,
      "metadata": {
        "autoscroll": "auto"
      },
      "outputs": [],
      "source": "//¿Cuál es el porcentaje de indigenas (personas de población nativa u originaria del pais) con respecto al porcentaje total de personas \n//a las que se les tomo la encuesta?\n\nval indg \u003d data.where($\"etnia\" \u003d\u003d\u003d \"1 - Indígena\")\n\n\tprint(f\"${(indg.count * 100)/data.count.toDouble}%.2f%% De Indígenas encuestados\")\n///\t12.12% De Indígenas encuestados encuestados\")"
    },
    {
      "cell_type": "code",
      "execution_count": 3,
      "metadata": {
        "autoscroll": "auto"
      },
      "outputs": [],
      "source": "\n//¿Cuál es la clasificacion de indigenas con respecto a sus condicion laboral (condicion_actividad)?\nprint(f\"${(indg.where($\"condicion_actividad\" \u003d\u003d\u003d \"1 - Empleo Adecuado/Pleno\").count * 100)/indg.count.toDouble}%.2f%% Empleo Adecuado\\n${(indg.where($\"condicion_actividad\" \u003d\u003d\u003d \"2 - Subempleo por insuficiencia de tiempo de trabajo\").count * 100)/indg.count.toDouble}%.2f%% Subempleo por insuficiencia de trabajo\\n${(indg.where($\"condicion_actividad\" \u003d\u003d\u003d \"4 - Otro empleo no pleno\").count * 100)/indg.count.toDouble}%.2f%% Otro empleo no pleno\\n${(indg.where($\"condicion_actividad\" \u003d\u003d\u003d \"5 - Empleo no remunerado\").count * 100)/indg.count.toDouble}%.2f%% Empleo no remunerado\\n${(indg.where($\"condicion_actividad\" \u003d\u003d\u003d \"6 - Empleo no clasificado\").count * 100)/indg.count.toDouble}%.2f%% Empleo no clasificado\\n${(indg.where($\"condicion_actividad\" \u003d\u003d\u003d \"7 - Desempleo abierto\").count * 100)/indg.count.toDouble}%.2f%% Desempleo Abierto\\n${(indg.where($\"condicion_actividad\" \u003d\u003d\u003d \"8 - Desempleo oculto\").count * 100)/indg.count.toDouble}%.2f%% Desempleo Oculto\")\n"
    },
    {
      "cell_type": "code",
      "execution_count": 4,
      "metadata": {
        "autoscroll": "auto"
      },
      "outputs": [],
      "source": "//¿Cuál es la cantidad de Indígenas que estan con desempleo abierto(busqueda activamente de empleo durante el mes anterior a la encuesta sin exito)?\n\n\tindg.where($\"condicion_actividad\" \u003d\u003d\u003d \"7 - Desempleo abierto\").count\n"
    },
    {
      "cell_type": "code",
      "execution_count": 5,
      "metadata": {
        "autoscroll": "auto"
      },
      "outputs": [],
      "source": "//¿Cuál es el nivel de educación que tienen los Indígenas desempleados abiertamente?\n\n\tval indgEduc \u003d  indg.where($\"condicion_actividad\" \u003d\u003d\u003d \"7 - Desempleo abierto\") \n\nz.show(\tindgEduc.groupBy(\"nivel_de_instruccion\").count().as(\"cantidad\").sort(desc(\"count\")))"
    },
    {
      "cell_type": "code",
      "execution_count": 6,
      "metadata": {
        "autoscroll": "auto"
      },
      "outputs": [],
      "source": "//¿Puede una persona Indigena con desempleo abierto, tener un ingreso laboral diferente de 0? ¿No es esto contradictorio? Compruebelo.\nindgEduc.where($\"ingreso_laboral\" \u003e 0)\nindgEduc.where($\"ingreso_laboral\" \u003e 0).count\n"
    },
    {
      "cell_type": "code",
      "execution_count": 7,
      "metadata": {
        "autoscroll": "auto"
      },
      "outputs": [],
      "source": "/*\n¿Cómo es posible que una persona con un \"desempleo abierto\" tenga un ingreso laboral que no sea 0?\n\n\tSe puede considerar varios posibles errores:\n\t\n\tPrimero: La sentencia este mal escrita o con un error, lo cual es posible, pero se descarta al usar otra herramienta para comprobar \n\tsu veracidad (excel) en el cual demuestra usando filtros que existen encuestados indigenas, con desempleo oculto que tienen \n\tun ingreso laboral mayor a 0.\n\n\tSegundo: El archivo de origen vino con defectos, otra opcion posible, pero tambien descartada cuando leemos los significados de cada\n\tcolumna.\n\n\tPosible Respuesta: La pagina web desde donde se proveyeron los datos, ofrece información acerca de que es el desempleo oculto y que \n\tconsidera el mismo. Siendo asi el significado de esta variable \"Personas sin empleo, que no estuvieron empleados en la semana pasada y que buscaron trabajo e\n\thicieron gestiones concretas para conseguir empleo o para establecer algún negocio en las cuatro semanas anteriores a la entrevista.\"\n\t\n\tSe puede considerar como verdadera esta sentencia ya que, podemos deducir que el ingreso laboral que decretaron estas personas en la encuesta\n\tpertenece al ingreso laboral que recibian una semana antes de la encuesta, cuando aun estaban empleados."
    },
    {
      "cell_type": "code",
      "execution_count": 8,
      "metadata": {
        "autoscroll": "auto"
      },
      "outputs": [],
      "source": "//¿Cuál es el valor máximo y minimo que gana un indígena que tiene el nivel mas alto de estudios (Post-grado)?\n\n\tval indgEducPost \u003d (indg.where($\"nivel_de_instruccion\" \u003d\u003d\u003d \"10 - Post-grado\"))\n\n\tindgEducPost.select(\"ingreso_laboral\").summary(\"max\", \"min\").show()"
    },
    {
      "cell_type": "code",
      "execution_count": 9,
      "metadata": {
        "autoscroll": "auto"
      },
      "outputs": [],
      "source": "/*¿Existe una diferencia de salario que un indigena(post-grado) recibe de ingreso laboral promedio, con respecto al valor de ingreso laboral promedio de un ecuatoriano meztizo(post-grado)?*/\n\t\n\n\t// Summary de Indigenas con Postgrado (Con acotas)\n\t\t\tindgEducPost.select(\"ingreso_laboral\").summary().show()"
    },
    {
      "cell_type": "code",
      "execution_count": 10,
      "metadata": {
        "autoscroll": "auto"
      },
      "outputs": [],
      "source": "//¿Existen valores nulos?\n\t\tindgEducPost.select(\"ingreso_laboral\").groupBy(\"ingreso_laboral\").count().sort(desc(\"count\")).show(5)"
    },
    {
      "cell_type": "code",
      "execution_count": 11,
      "metadata": {
        "autoscroll": "auto"
      },
      "outputs": [],
      "source": "//Limpieza de Nulos\nval postIndg \u003d indgEducPost.select(\"ingreso_laboral\").where($\"ingreso_laboral\".isNotNull)"
    },
    {
      "cell_type": "code",
      "execution_count": 12,
      "metadata": {
        "autoscroll": "auto"
      },
      "outputs": [],
      "source": "//Busqueda de acotas\nval cantValoresEnDifRangos \u003d  scala.collection.mutable.ListBuffer[Long]()\n\t\tval minValue \u003d 0.0\n\t\tval maxValue \u003d 5264\n\t\tval bins \u003d 5.0\n\t\tval range \u003d (maxValue - minValue)/bins\n\t\tvar minCounter \u003d minValue\n\t\tvar maxCounter \u003d range\n\t\twhile (minCounter \u003c maxValue){\n\t\t  val valoresEnUnRango \u003d postIndg.where($\"ingreso_laboral\".between(minCounter,maxCounter))\n\t\t  cantValoresEnDifRangos.+\u003d(valoresEnUnRango.count())\n\t\t  minCounter \u003d maxCounter\n\t\t  maxCounter \u003d maxCounter + range\n\t\t}"
    },
    {
      "cell_type": "code",
      "execution_count": 13,
      "metadata": {
        "autoscroll": "auto"
      },
      "outputs": [],
      "source": "//Resultados de rangos\nprintln(\"Valores en diferentes rangos: \")\n\t\tcantValoresEnDifRangos.foreach(println)\n\t\t/* 77 rango 0 - 1053\n\t\t49 rango 1053 - 2106\n\t\t23 rango 2106 - 3158\n\t\t8  rango 3158 - 4211 \n\t\t2  rango 4211 - 5264*/"
    },
    {
      "cell_type": "code",
      "execution_count": 14,
      "metadata": {
        "autoscroll": "auto"
      },
      "outputs": [],
      "source": "//Promedio\n\n\t\tval prom \u003d postIndg.select(mean(\"ingreso_laboral\")).first()(0).asInstanceOf[Double]\n"
    },
    {
      "cell_type": "code",
      "execution_count": 15,
      "metadata": {
        "autoscroll": "auto"
      },
      "outputs": [],
      "source": "//Desviacion estandar\n\n\t\tval desviacion \u003d postIndg.select(stddev(\"ingreso_laboral\")).first()(0).asInstanceOf[Double]\n\t\t"
    },
    {
      "cell_type": "code",
      "execution_count": 16,
      "metadata": {
        "autoscroll": "auto"
      },
      "outputs": [],
      "source": "//Limite Inferior\n\t\tval limInf \u003d prom - 3 * desviacion"
    },
    {
      "cell_type": "code",
      "execution_count": 17,
      "metadata": {
        "autoscroll": "auto"
      },
      "outputs": [],
      "source": "//Limite Superior\nval limSup \u003d prom + 3 * desviacion"
    },
    {
      "cell_type": "code",
      "execution_count": 18,
      "metadata": {
        "autoscroll": "auto"
      },
      "outputs": [],
      "source": "//Indigenas con Postgrado (Sin acotas)\n\t\tval indgPostSinAcotas \u003d postIndg.where($\"ingreso_laboral\" \u003e limInf \u0026\u0026 $\"ingreso_laboral\" \u003c limSup)"
    },
    {
      "cell_type": "code",
      "execution_count": 19,
      "metadata": {
        "autoscroll": "auto"
      },
      "outputs": [],
      "source": "//Summary de Indigenas con Postgrado (Sin acotas)\t\nindgPostSinAcotas.select(\"ingreso_laboral\").summary().show\t"
    },
    {
      "cell_type": "code",
      "execution_count": 20,
      "metadata": {
        "autoscroll": "auto"
      },
      "outputs": [],
      "source": "//Summary de Indigenas con Postgrado (Con acotas)\t\nindgEducPost.select(\"ingreso_laboral\").summary().show()"
    },
    {
      "cell_type": "code",
      "execution_count": 21,
      "metadata": {
        "autoscroll": "auto"
      },
      "outputs": [],
      "source": "val mezt \u003d data.where($\"etnia\" \u003d\u003d\u003d \"6 - Mestizo\")\n//Meztizos PostGrado\nval meztEducPost \u003d mezt.where($\"nivel_de_instruccion\" \u003d\u003d\u003d \"10 - Post-grado\")\n\n\t"
    },
    {
      "cell_type": "code",
      "execution_count": 22,
      "metadata": {
        "autoscroll": "auto"
      },
      "outputs": [],
      "source": "//Summary de Meztizos con Postgrado (Con acotas)\n\nmeztEducPost.select(\"ingreso_laboral\").summary().show()"
    },
    {
      "cell_type": "code",
      "execution_count": 23,
      "metadata": {
        "autoscroll": "auto"
      },
      "outputs": [],
      "source": "//¿Existen valores nulos?\n\n\t\tmeztEducPost.select(\"ingreso_laboral\").groupBy(\"ingreso_laboral\").count().sort(desc(\"count\")).show(5)\n\t\t"
    },
    {
      "cell_type": "code",
      "execution_count": 24,
      "metadata": {
        "autoscroll": "auto"
      },
      "outputs": [],
      "source": "//Limpieza de Nulos\n\n\t\tval postMezt \u003d meztEducPost.select(\"ingreso_laboral\").where($\"ingreso_laboral\".isNotNull)\n\n\t"
    },
    {
      "cell_type": "code",
      "execution_count": 25,
      "metadata": {
        "autoscroll": "auto"
      },
      "outputs": [],
      "source": "//Busqueda de acotas\n\t\t\n\t\tval cantValoresEnDifRangos \u003d  scala.collection.mutable.ListBuffer[Long]()\n\t\tval minValue \u003d 0.0\n\t\tval maxValue \u003d 30000\n\t\tval bins \u003d 5.0\n\t\tval range \u003d (maxValue - minValue)/bins\n\t\tvar minCounter \u003d minValue\n\t\tvar maxCounter \u003d range\n\t\twhile (minCounter \u003c maxValue){\n\t\t  val valoresEnUnRango \u003d postMezt.where($\"ingreso_laboral\".between(minCounter,maxCounter))\n\t\t  cantValoresEnDifRangos.+\u003d(valoresEnUnRango.count())\n\t\t  minCounter \u003d maxCounter\n\t\t  maxCounter \u003d maxCounter + range\n\t\t}"
    },
    {
      "cell_type": "code",
      "execution_count": 26,
      "metadata": {
        "autoscroll": "auto"
      },
      "outputs": [],
      "source": "//Resultados de rangos\n\n\t\tprintln(\"Valores en diferentes rangos: \")\n\t\tcantValoresEnDifRangos.foreach(println)\n\t\t/*8939 rango 0 - 6000\n\t\t74   rango 6000 - 12000\n\t\t6    rango 12000 - 18000\n\t\t4    rango 18000 - 24000 \n\t\t4    rango 24000 - 30000 */"
    },
    {
      "cell_type": "code",
      "execution_count": 27,
      "metadata": {
        "autoscroll": "auto"
      },
      "outputs": [],
      "source": "//Promedio\n\n\t\tval prom \u003d postMezt.select(mean(\"ingreso_laboral\")).first()(0).asInstanceOf[Double]\n\t\t"
    },
    {
      "cell_type": "code",
      "execution_count": 28,
      "metadata": {
        "autoscroll": "auto"
      },
      "outputs": [],
      "source": "//Desviacion estandar\n\n\t\tval desviacion \u003d postMezt.select(stddev(\"ingreso_laboral\")).first()(0).asInstanceOf[Double]\n\t\t"
    },
    {
      "cell_type": "code",
      "execution_count": 29,
      "metadata": {
        "autoscroll": "auto"
      },
      "outputs": [],
      "source": "// Limite Inferior - Limite Superior\n\t\tval limInf \u003d prom - 3 * desviacion\n\t\tval limSup \u003d prom + 3 * desviacion"
    },
    {
      "cell_type": "code",
      "execution_count": 30,
      "metadata": {
        "autoscroll": "auto"
      },
      "outputs": [],
      "source": "//Meztizos con Postgrado (Sin acotas)\n\n\t\tval meztPostSinAcotas \u003d postMezt.where($\"ingreso_laboral\" \u003e limInf \u0026\u0026 $\"ingreso_laboral\" \u003c limSup)\n\t"
    },
    {
      "cell_type": "code",
      "execution_count": 31,
      "metadata": {
        "autoscroll": "auto"
      },
      "outputs": [],
      "source": "//Summary de Meztizos con Postgrado (Sin acotas)\t\t\t\t\t\t  \n\t\tmeztPostSinAcotas.select(\"ingreso_laboral\").summary().show\t\t\n\t\t"
    },
    {
      "cell_type": "code",
      "execution_count": 32,
      "metadata": {
        "autoscroll": "auto"
      },
      "outputs": [],
      "source": "//Summary de Meztizos con Postgrado (Con acotas)\t\t\t\t\t\t  \n\nmeztEducPost.select(\"ingreso_laboral\").summary().show()"
    },
    {
      "cell_type": "code",
      "execution_count": 33,
      "metadata": {
        "autoscroll": "auto"
      },
      "outputs": [],
      "source": "//Indigenas\n\t\tval cuartiles \u003d postIndg.stat.approxQuantile(\"ingreso_laboral\", Array (0.25, 0.75), 0.0)\n\t\tval q1 \u003d cuartiles(0)\n\t\tval q3 \u003d cuartiles(1)\n\t\tval iQR \u003d q3 -q1\n\t\tval inferiorIQR \u003d q1 -1.5 * iQR\n\t\tval superiorIQR \u003d q3 + 1.5 * iQR\n\t\tval indgSinAcotasIQR \u003d postIndg.where($\"ingreso_laboral\" \u003e inferiorIQR \u0026\u0026 $\"ingreso_laboral\" \u003c superiorIQR)\n\t\tindgSinAcotasIQR.select(\"ingreso_laboral\").summary().show\n\t\t"
    },
    {
      "cell_type": "code",
      "execution_count": 34,
      "metadata": {
        "autoscroll": "auto"
      },
      "outputs": [],
      "source": "//Mestizos\n\t\tval cuartiles \u003d postMezt.stat.approxQuantile(\"ingreso_laboral\", Array (0.25, 0.75), 0.0)\n\t\tval q1 \u003d cuartiles(0)\n\t\tval q3 \u003d cuartiles(1)\n\t\tval iQR \u003d q3 -q1\n\t\tval inferiorIQR \u003d q1 -1.5 * iQR\n\t\tval superiorIQR \u003d q3 + 1.5 * iQR\n\t\tval meztSinAcotasIQR \u003d postMezt.where($\"ingreso_laboral\" \u003e inferiorIQR \u0026\u0026 $\"ingreso_laboral\" \u003c superiorIQR)\n\t\tmeztSinAcotasIQR.select(\"ingreso_laboral\").summary().show"
    },
    {
      "cell_type": "code",
      "execution_count": 35,
      "metadata": {
        "autoscroll": "auto"
      },
      "outputs": [],
      "source": "/*Considerando los resultados de los 2 algoritmos, se puede deducir que en efecto, existe una diferencia entre lo que gana un indigena (post-grado) en promedio,\n\t\tcon lo que gana un meztizo de similares caracteristicas, pero realmente no es una diferencia significativa, es un valor encontrado en un rango entre 130 -170.\n\t\tVease:\n\t\t\n\t\tAlgoritmo 1 (salario promedio):\n\n\t\tindigena \u003d  1387.386075949367\t\tmeztizo \u003d 1553.2442199775533\n\t\t\n\t\t\tdiferencia \u003d | 1387.39 - 1553.24 | \u003d |- 165.85 |\n\t\t\tdiferencia \u003d 165.85\n\n\t\tAlgoritmo 2 (salario promedio):\n\n\t \tindigena \u003d  1291.5526315789473\t\tmeztizo \u003d 1425.7911637173327\n\n\t\t\tdiferencia \u003d | 1291.55 - 1425.8 | \u003d |- 134.25 |\n\t\t\tdiferencia \u003d 134.25*/"
    },
    {
      "cell_type": "code",
      "execution_count": 36,
      "metadata": {
        "autoscroll": "auto"
      },
      "outputs": [],
      "source": "/*¿Es posible que con el tiempo los niveles de empleo adecuado y desempleo en los indigenas hayan aumentado con respecto a los demas grupos poblacionales? ¿Es posible demostrar como ha variado su condicion laboral con el paso de los años?*/\n\tz.show(indg.stat.crosstab(\"condicion_actividad\", \"anio\").orderBy(\"condicion_actividad_anio\"))\n"
    },
    {
      "cell_type": "code",
      "execution_count": 37,
      "metadata": {
        "autoscroll": "auto"
      },
      "outputs": [],
      "source": "/*¿ Que hay con respecto a las personas que no son Indigenas? ¿Se puede observar una similaridad en cuanto a la estadistica?\n*/\n\tval noIndg \u003d data.where($\"etnia\" \u003d!\u003d \"1 - Indígena\")\n\tz.show(noIndg.stat.crosstab(\"condicion_actividad\", \"anio\").orderBy(\"condicion_actividad_anio\"))\n\t/*\tLos datos demuestran que no ha habido algun tipo de discriminacion, todos los grupos poblacionales han demostrado que han tendido a la baja con respecto al empleo adecuado en el ecuador\t*/"
    },
    {
      "cell_type": "code",
      "execution_count": 38,
      "metadata": {
        "autoscroll": "auto"
      },
      "outputs": [],
      "source": "//Cual es el porcentaje de ingreso laboral que un indigena genera\nval indg \u003d data.where($\"etnia\" \u003d\u003d\u003d \"1 - Indígena\")\n\n\tprint(f\"${(indg.count * 100)/data.count.toDouble}%.2f%% De Indígenas encuestados\")\n\t12.12% De Indígenas encuestados\n\n"
    },
    {
      "cell_type": "code",
      "execution_count": 39,
      "metadata": {
        "autoscroll": "auto"
      },
      "outputs": [],
      "source": "/*De las personas indigenas ¿Es posible que hayan sido las mujeres las mas que menor valor de ingreso han obtenido? ¿Existe alguna diferencia significativa entre el porcentaje de ingr*/\n\tindg.select(sum(\"ingreso_laboral\")).show\n\tz.show(indg.groupBy(\"anio\").pivot(\"genero\").agg( round((sum(\"ingreso_laboral\")*100)/13925210) ).orderBy(\"anio\"))"
    },
    {
      "cell_type": "code",
      "execution_count": 40,
      "metadata": {
        "autoscroll": "auto"
      },
      "outputs": [],
      "source": "//se muestra el porcentaje de personas en condicion de actividad desempleo abrierto segun el area urbana o rural \nval des \u003d (indg.select(\"area\",\"condicion_actividad\").where(column(\"condicion_actividad\")\u003d\u003d\u003d\"7 - Desempleo abierto\").groupBy(\"area\").count)\nz.show(des.select(des(\"area\"),(des(\"count\")/622776 *100).as(\"porcentaje deseempleo\")))"
    },
    {
      "cell_type": "code",
      "execution_count": 41,
      "metadata": {
        "autoscroll": "auto"
      },
      "outputs": [],
      "source": "//mestizos\nval des \u003d (mezt.select(\"area\",\"condicion_actividad\").where(column(\"condicion_actividad\")\u003d\u003d\u003d\"7 - Desempleo abierto\").groupBy(\"area\").count)\nz.show(des.select(des(\"area\"),(des(\"count\")/622776 *100).as(\"porcentaje deseempleo\")))"
    },
    {
      "cell_type": "code",
      "execution_count": 42,
      "metadata": {
        "autoscroll": "auto"
      },
      "outputs": [],
      "source": "//se muestra la media de ingresos por cada grupo de ocupacion\nz.show(indg.select(\"grupo_ocupacion\",\"ingreso_laboral\").groupBy(\"grupo_ocupacion\").avg(\"ingreso_laboral\").select($\"grupo_ocupacion\",$\"avg(ingreso_laboral)\".as(\"media de ingresos\")))"
    },
    {
      "cell_type": "code",
      "execution_count": 43,
      "metadata": {
        "autoscroll": "auto"
      },
      "outputs": [],
      "source": "//meztizos\nz.show(mezt.select(\"grupo_ocupacion\",\"ingreso_laboral\").groupBy(\"grupo_ocupacion\").avg(\"ingreso_laboral\").select($\"grupo_ocupacion\",$\"avg(ingreso_laboral)\".as(\"media de ingresos\")))"
    },
    {
      "cell_type": "code",
      "execution_count": 44,
      "metadata": {
        "autoscroll": "auto"
      },
      "outputs": [],
      "source": "//se muestra la media de ingresos segun la zona  \nz.show(indg.select(\"area\",\"ingreso_laboral\").groupBy(\"area\").avg(\"ingreso_laboral\").select($\"area\",$\"avg(ingreso_laboral)\".as(\"media de ingresos\")))"
    },
    {
      "cell_type": "code",
      "execution_count": 45,
      "metadata": {
        "autoscroll": "auto"
      },
      "outputs": [],
      "source": "//meztizos\nz.show(mezt.select(\"area\",\"ingreso_laboral\").groupBy(\"area\").avg(\"ingreso_laboral\").select($\"area\",$\"avg(ingreso_laboral)\".as(\"media de ingresos\")))"
    },
    {
      "cell_type": "code",
      "execution_count": 46,
      "metadata": {
        "autoscroll": "auto"
      },
      "outputs": [],
      "source": "//se muestra la media de ingresos segun el nivel de instruccion \nz.show(indg.select(\"nivel_de_instruccion\",\"ingreso_laboral\").groupBy(\"nivel_de_instruccion\").avg(\"ingreso_laboral\").orderBy(\"nivel_de_instruccion\").select($\"nivel_de_instruccion\",$\"avg(ingreso_laboral)\".as(\"media de ingresos\")))"
    },
    {
      "cell_type": "code",
      "execution_count": 47,
      "metadata": {
        "autoscroll": "auto"
      },
      "outputs": [],
      "source": "//meztizos\nz.show(mezt.select(\"nivel_de_instruccion\",\"ingreso_laboral\").groupBy(\"nivel_de_instruccion\").avg(\"ingreso_laboral\").orderBy(\"nivel_de_instruccion\").select($\"nivel_de_instruccion\",$\"avg(ingreso_laboral)\".as(\"media de ingresos\")))"
    },
    {
      "cell_type": "code",
      "execution_count": 48,
      "metadata": {
        "autoscroll": "auto"
      },
      "outputs": [],
      "source": "//se muestra el deseempleo abierto segun el nivel de educacion\nz.show(indg.select(\"nivel_de_instruccion\",\"condicion_actividad\").where(column(\"condicion_actividad\")\u003d\u003d\u003d\"7 - Desempleo abierto\").groupBy(\"nivel_de_instruccion\").count.orderBy(col(\"nivel_de_instruccion\").desc))\n//indg.stat.crosstab(\"nivel_de_instruccion\", \"condicion_actividad\").orderBy(\"nivel_de_instruccion_condicion_actividad\").show"
    },
    {
      "cell_type": "code",
      "execution_count": 49,
      "metadata": {
        "autoscroll": "auto"
      },
      "outputs": [],
      "source": "//meztizos\nz.show(mezt.select(\"nivel_de_instruccion\",\"condicion_actividad\").where(column(\"condicion_actividad\")\u003d\u003d\u003d\"7 - Desempleo abierto\").groupBy(\"nivel_de_instruccion\").count.orderBy(col(\"nivel_de_instruccion\").desc))"
    },
    {
      "cell_type": "code",
      "execution_count": 50,
      "metadata": {
        "autoscroll": "auto"
      },
      "outputs": [],
      "source": "//se muestra el deseempleo abierto segun el estado civil\n\nz.show(indg.select($\"estado_civil\",$\"condicion_actividad\").where(column(\"condicion_actividad\")\u003d\u003d\u003d\"7 - Desempleo abierto\").groupBy(\"estado_civil\").count.select($\"estado_civil\",\n$\"count\"/622776 *100).select($\"estado_civil\",$\"((count / 622776) * 100)\".as(\"porcentaje deseempleo\")))"
    },
    {
      "cell_type": "code",
      "execution_count": 51,
      "metadata": {
        "autoscroll": "auto"
      },
      "outputs": [],
      "source": "//meztizos\nz.show(mezt.select($\"estado_civil\",$\"condicion_actividad\").where(column(\"condicion_actividad\")\u003d\u003d\u003d\"7 - Desempleo abierto\").groupBy(\"estado_civil\").count.select($\"estado_civil\",\n$\"count\"/622776 *100).select($\"estado_civil\",$\"((count / 622776) * 100)\".as(\"porcentaje deseempleo\")))"
    },
    {
      "cell_type": "code",
      "execution_count": 52,
      "metadata": {
        "autoscroll": "auto"
      },
      "outputs": [],
      "source": "//como ha evolucionado el deseempleo en la poblacion indigena en este tiempo ?\nval indg2 \u003d indg.where(column(\"condicion_actividad\")\u003d\u003d\u003d\"7 - Desempleo abierto\")\nz.show(indg2.stat.crosstab(\"anio\", \"genero\").orderBy(\"anio_genero\"))"
    },
    {
      "cell_type": "code",
      "execution_count": 53,
      "metadata": {
        "autoscroll": "auto"
      },
      "outputs": [],
      "source": "//meztizo\nval indg2 \u003d mezt.where(column(\"condicion_actividad\")\u003d\u003d\u003d\"7 - Desempleo abierto\")\nz.show(indg2.stat.crosstab(\"anio\", \"genero\").orderBy(\"anio_genero\"))"
    },
    {
      "cell_type": "code",
      "execution_count": 54,
      "metadata": {
        "autoscroll": "auto"
      },
      "outputs": [],
      "source": "//como ha evolucionado el nivel de instruccion en el pueblo indigena a traves del tiempo \n//como se explican estos numeros\nz.show(indg.groupBy(\"nivel_de_instruccion\").pivot(\"anio\").count)"
    },
    {
      "cell_type": "code",
      "execution_count": 55,
      "metadata": {
        "autoscroll": "auto"
      },
      "outputs": [],
      "source": "//meztizo\nz.show(mezt.groupBy(\"nivel_de_instruccion\").pivot(\"anio\").count)"
    }
  ]
}